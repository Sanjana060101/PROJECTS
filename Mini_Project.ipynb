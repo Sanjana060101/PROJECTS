{
  "cells": [
    {
      "cell_type": "markdown",
      "metadata": {
        "id": "aFEiatN0t4ww"
      },
      "source": [
        "#Importing dataset from drive"
      ]
    },
    {
      "cell_type": "code",
      "execution_count": null,
      "metadata": {
        "colab": {
          "base_uri": "https://localhost:8080/"
        },
        "id": "KGWmLp_-VycO",
        "outputId": "06fd6289-a7a5-424d-a810-e364782b37b7"
      },
      "outputs": [
        {
          "name": "stdout",
          "output_type": "stream",
          "text": [
            "Mounted at /content/drive\n"
          ]
        }
      ],
      "source": [
        "from google.colab import drive\n",
        "drive.mount('/content/drive')"
      ]
    },
    {
      "cell_type": "code",
      "execution_count": null,
      "metadata": {
        "id": "7J_7LmSDsZnA"
      },
      "outputs": [],
      "source": [
        "FOLDER_DIR = '/content/Frames_Word_Level.zip'\n",
        "FOLDER_DIR_DRIVE = '/content/drive/My Drive/Mini_Project/Dataset'                # Path containing Dataset"
      ]
    },
    {
      "cell_type": "code",
      "execution_count": null,
      "metadata": {
        "colab": {
          "base_uri": "https://localhost:8080/"
        },
        "id": "RblncBvImfgo",
        "outputId": "823cdb72-d867-46e1-a10f-b7d8b1b57c64"
      },
      "outputs": [
        {
          "name": "stdout",
          "output_type": "stream",
          "text": [
            "Collecting mediapipe\n",
            "  Downloading mediapipe-0.8.9.1-cp37-cp37m-manylinux_2_17_x86_64.manylinux2014_x86_64.whl (32.7 MB)\n",
            "\u001b[K     |████████████████████████████████| 32.7 MB 72.0 MB/s \n",
            "\u001b[?25hRequirement already satisfied: sklearn in /usr/local/lib/python3.7/dist-packages (0.0)\n",
            "Requirement already satisfied: matplotlib in /usr/local/lib/python3.7/dist-packages (3.2.2)\n",
            "Collecting opencv-python==4.5.3.56\n",
            "  Downloading opencv_python-4.5.3.56-cp37-cp37m-manylinux2014_x86_64.whl (49.9 MB)\n",
            "\u001b[K     |████████████████████████████████| 49.9 MB 42 kB/s \n",
            "\u001b[?25hRequirement already satisfied: numpy>=1.14.5 in /usr/local/lib/python3.7/dist-packages (from opencv-python==4.5.3.56) (1.19.5)\n",
            "Requirement already satisfied: opencv-contrib-python in /usr/local/lib/python3.7/dist-packages (from mediapipe) (4.1.2.30)\n",
            "Requirement already satisfied: attrs>=19.1.0 in /usr/local/lib/python3.7/dist-packages (from mediapipe) (21.4.0)\n",
            "Requirement already satisfied: absl-py in /usr/local/lib/python3.7/dist-packages (from mediapipe) (1.0.0)\n",
            "Requirement already satisfied: protobuf>=3.11.4 in /usr/local/lib/python3.7/dist-packages (from mediapipe) (3.17.3)\n",
            "Requirement already satisfied: six>=1.9 in /usr/local/lib/python3.7/dist-packages (from protobuf>=3.11.4->mediapipe) (1.15.0)\n",
            "Requirement already satisfied: scikit-learn in /usr/local/lib/python3.7/dist-packages (from sklearn) (1.0.2)\n",
            "Requirement already satisfied: cycler>=0.10 in /usr/local/lib/python3.7/dist-packages (from matplotlib) (0.11.0)\n",
            "Requirement already satisfied: kiwisolver>=1.0.1 in /usr/local/lib/python3.7/dist-packages (from matplotlib) (1.3.2)\n",
            "Requirement already satisfied: python-dateutil>=2.1 in /usr/local/lib/python3.7/dist-packages (from matplotlib) (2.8.2)\n",
            "Requirement already satisfied: pyparsing!=2.0.4,!=2.1.2,!=2.1.6,>=2.0.1 in /usr/local/lib/python3.7/dist-packages (from matplotlib) (3.0.7)\n",
            "Requirement already satisfied: scipy>=1.1.0 in /usr/local/lib/python3.7/dist-packages (from scikit-learn->sklearn) (1.4.1)\n",
            "Requirement already satisfied: joblib>=0.11 in /usr/local/lib/python3.7/dist-packages (from scikit-learn->sklearn) (1.1.0)\n",
            "Requirement already satisfied: threadpoolctl>=2.0.0 in /usr/local/lib/python3.7/dist-packages (from scikit-learn->sklearn) (3.0.0)\n",
            "Installing collected packages: opencv-python, mediapipe\n",
            "  Attempting uninstall: opencv-python\n",
            "    Found existing installation: opencv-python 4.1.2.30\n",
            "    Uninstalling opencv-python-4.1.2.30:\n",
            "      Successfully uninstalled opencv-python-4.1.2.30\n",
            "\u001b[31mERROR: pip's dependency resolver does not currently take into account all the packages that are installed. This behaviour is the source of the following dependency conflicts.\n",
            "albumentations 0.1.12 requires imgaug<0.2.7,>=0.2.5, but you have imgaug 0.2.9 which is incompatible.\u001b[0m\n",
            "Successfully installed mediapipe-0.8.9.1 opencv-python-4.5.3.56\n"
          ]
        }
      ],
      "source": [
        "!pip install mediapipe sklearn matplotlib opencv-python==4.5.3.56"
      ]
    },
    {
      "cell_type": "markdown",
      "metadata": {
        "id": "fZqKzXLL1WZo"
      },
      "source": [
        "# 1) Import and Install Libraries \n",
        "\n"
      ]
    },
    {
      "cell_type": "code",
      "execution_count": null,
      "metadata": {
        "id": "ZdufsPvapee8"
      },
      "outputs": [],
      "source": [
        "import cv2\n",
        "import numpy as np\n",
        "import os        # for making file path tasks easier \n",
        "from matplotlib import pyplot as plt\n",
        "import time      # to get sleep between \n",
        "import mediapipe as mp"
      ]
    },
    {
      "cell_type": "markdown",
      "metadata": {
        "id": "W8v0FRS_1s7w"
      },
      "source": [
        "#2) Keypoints using MP Holistic [ Data Preprocessing ]"
      ]
    },
    {
      "cell_type": "code",
      "execution_count": null,
      "metadata": {
        "id": "pIg1EZ82DS-c"
      },
      "outputs": [],
      "source": [
        "mp_holistic = mp.solutions.holistic # Holistic model ( to make detections , downloading or leveraging the model )\n",
        "mp_drawing = mp.solutions.drawing_utils # Drawing utilities  ( to draw them , makes drawing keypoints on our face easier )"
      ]
    },
    {
      "cell_type": "markdown",
      "metadata": {
        "id": "jJxOVB1u11jp"
      },
      "source": [
        "##Function for Detection"
      ]
    },
    {
      "cell_type": "code",
      "execution_count": null,
      "metadata": {
        "id": "3yGE0Zq_poIg"
      },
      "outputs": [],
      "source": [
        "\n",
        "def mediapipe_detection(image, model):\n",
        "    image = cv2.cvtColor(image, cv2.COLOR_BGR2RGB) # COLOR CONVERSION BGR 2 RGB\n",
        "    image.flags.writeable = False                  # Image is no longer writeable ( saves memory )\n",
        "    results = model.process(image)                 # Make prediction   # Image is the frame from openCV and this line is performing detection \n",
        "    image.flags.writeable = True                   # Image is now writeable \n",
        "    image = cv2.cvtColor(image, cv2.COLOR_RGB2BGR) # COLOR COVERSION RGB 2 BGR\n",
        "    return image, results"
      ]
    },
    {
      "cell_type": "markdown",
      "metadata": {
        "id": "1CmgQHH319EN"
      },
      "source": [
        "##Function for Drawing Landmarks on images"
      ]
    },
    {
      "cell_type": "code",
      "execution_count": null,
      "metadata": {
        "id": "AgYWWKDwpyZK"
      },
      "outputs": [],
      "source": [
        "def draw_landmarks(image, results):\n",
        "    mp_drawing.draw_landmarks(image, results.face_landmarks, mp_holistic.FACEMESH_CONTOURS) # Draw face connections\n",
        "    mp_drawing.draw_landmarks(image, results.pose_landmarks, mp_holistic.POSE_CONNECTIONS) # Draw pose connections\n",
        "    mp_drawing.draw_landmarks(image, results.left_hand_landmarks, mp_holistic.HAND_CONNECTIONS) # Draw left hand connections\n",
        "    mp_drawing.draw_landmarks(image, results.right_hand_landmarks, mp_holistic.HAND_CONNECTIONS) # Draw right hand connections"
      ]
    },
    {
      "cell_type": "markdown",
      "metadata": {
        "id": "_1lUNR2tuZeu"
      },
      "source": [
        "###Improvising the landmark drawing function for better color "
      ]
    },
    {
      "cell_type": "code",
      "execution_count": null,
      "metadata": {
        "id": "QOVqyDL8T_A2"
      },
      "outputs": [],
      "source": [
        "def draw_styled_landmarks(image, results):\n",
        "    # Draw face connections\n",
        "    mp_drawing.draw_landmarks(image, results.face_landmarks, mp_holistic.FACEMESH_TESSELATION, \n",
        "                             mp_drawing.DrawingSpec(color=(80,110,10), thickness=1, circle_radius=1), \n",
        "                             mp_drawing.DrawingSpec(color=(80,256,121), thickness=1, circle_radius=1)\n",
        "                             ) \n",
        "    # Draw pose connections\n",
        "    mp_drawing.draw_landmarks(image, results.pose_landmarks, mp_holistic.POSE_CONNECTIONS,\n",
        "                             mp_drawing.DrawingSpec(color=(80,22,10), thickness=2, circle_radius=4), \n",
        "                             mp_drawing.DrawingSpec(color=(80,44,121), thickness=2, circle_radius=2)\n",
        "                             ) \n",
        "    # Draw left hand connections\n",
        "    mp_drawing.draw_landmarks(image, results.left_hand_landmarks, mp_holistic.HAND_CONNECTIONS, \n",
        "                             mp_drawing.DrawingSpec(color=(121,22,76), thickness=2, circle_radius=4), \n",
        "                             mp_drawing.DrawingSpec(color=(121,44,250), thickness=2, circle_radius=2)\n",
        "                             ) \n",
        "    # Draw right hand connections  \n",
        "    mp_drawing.draw_landmarks(image, results.right_hand_landmarks, mp_holistic.HAND_CONNECTIONS, \n",
        "                             mp_drawing.DrawingSpec(color=(245,117,66), thickness=2, circle_radius=4), \n",
        "                             mp_drawing.DrawingSpec(color=(245,66,230), thickness=2, circle_radius=2)\n",
        "                             )"
      ]
    },
    {
      "cell_type": "markdown",
      "metadata": {
        "id": "cFUbJiJBupt2"
      },
      "source": [
        "##Function to extract keypoints and store in numpy array"
      ]
    },
    {
      "cell_type": "code",
      "execution_count": null,
      "metadata": {
        "id": "lr_4F6hAibMn"
      },
      "outputs": [],
      "source": [
        "def extract_keypoints(results):\n",
        "    pose = np.array([[res.x, res.y, res.z, res.visibility] for res in results.pose_landmarks.landmark]).flatten() if results.pose_landmarks else np.zeros(33*4)\n",
        "    face = np.array([[res.x, res.y, res.z] for res in results.face_landmarks.landmark]).flatten() if results.face_landmarks else np.zeros(468*3)\n",
        "    lh = np.array([[res.x, res.y, res.z] for res in results.left_hand_landmarks.landmark]).flatten() if results.left_hand_landmarks else np.zeros(21*3)\n",
        "    rh = np.array([[res.x, res.y, res.z] for res in results.right_hand_landmarks.landmark]).flatten() if results.right_hand_landmarks else np.zeros(21*3)\n",
        "    return np.concatenate([pose, face, lh, rh])                                 # 1662 coordinates / values per frame"
      ]
    },
    {
      "cell_type": "markdown",
      "metadata": {
        "id": "kPzs9D_Luwmz"
      },
      "source": [
        "##Function to generate keypoints from images and save to folders"
      ]
    },
    {
      "cell_type": "code",
      "execution_count": null,
      "metadata": {
        "id": "JYCbPTTH0ISp"
      },
      "outputs": [],
      "source": [
        "def generate_keypoints(file_path,save_dir): \n",
        "  import cv2\n",
        "  import numpy as np\n",
        "  # from google.colab.patches import cv2_imshow\n",
        "  # Create a VideoCapture object and read from input file\n",
        "  # If the input is the camera, pass 0 instead of the video file name \n",
        "  cap = cv2.VideoCapture(file_path)                                                                     # accessing the path location of individual frame(image) and making it an object     \n",
        "  if (cap.isOpened()== False): \n",
        "    print(\"Error opening video stream or file\")\n",
        "\n",
        "  with mp_holistic.Holistic(min_detection_confidence=0.5, min_tracking_confidence=0.5) as holistic:    # accessing the mediapipe model by passing initiating parameters \n",
        "  # It tracks the keypoints from initial detection\n",
        "      # i = 0\n",
        "      while cap.isOpened():                                                                             # Looping through frames , looks like a video \n",
        "        # Read feed. \n",
        "        ret, frame = cap.read()                                                                         # Reading in BGR frame(numpy array describing the image) from the file location \n",
        "        if ret == True:\n",
        "          # Make detections\n",
        "          image, results = mediapipe_detection(frame, holistic)                                           # passed single frame , result = x,y,z coordinates of landmark for pose , etc \n",
        "          print(results)\n",
        "          # Draw landmarks\n",
        "          draw_landmarks(image, results)                                    \n",
        "          keypoints = extract_keypoints(results)                                                            # got all the landmarks in a flattened numpy array format \n",
        "          draw_styled_landmarks(frame, results) \n",
        "          plt.imshow(cv2.cvtColor(frame, cv2.COLOR_BGR2RGB))\n",
        "          np.save(save_dir, keypoints)                                                                      # saved the numpy array keypoint with filename save_dir in the mentioned location\n",
        "          # numpy array for evry frame in each folder/label got saved\n",
        "\n",
        "          # Break gracefully\n",
        "          if cv2.waitKey(10) & 0xFF == ord('q'):\n",
        "              break\n",
        "        else:\n",
        "          break\n",
        "  # When everything done, release the capture object\n",
        "  cap.release()\n",
        "  # Closes all the frames\n",
        "  cv2.destroyAllWindows()"
      ]
    },
    {
      "cell_type": "code",
      "execution_count": null,
      "metadata": {
        "colab": {
          "base_uri": "https://localhost:8080/"
        },
        "id": "gYXqhaRD_F10",
        "outputId": "c35bdf6f-60f5-4dab-d4c7-6715ae538b98"
      },
      "outputs": [
        {
          "name": "stdout",
          "output_type": "stream",
          "text": [
            "['YOU', 'UNDERSTAND', 'LIKE', 'I_ME_MINE_MY', 'CLASS', 'HEART', 'AFRAID', 'GOOD', 'FOOD', 'ANGRY', 'LOVE']\n"
          ]
        }
      ],
      "source": [
        "from pathlib import Path\n",
        "import re\n",
        "labels = os.listdir(FOLDER_DIR_DRIVE)\n",
        "paths = Path(FOLDER_DIR_DRIVE).glob('**/*.jpg')     \n",
        "print(labels)"
      ]
    },
    {
      "cell_type": "code",
      "execution_count": null,
      "metadata": {
        "id": "LD7pW5iYjDf8"
      },
      "outputs": [],
      "source": [
        "SAVE_DIR = '/content/drive/MyDrive/Mini_Project/Dataset_numpy'"
      ]
    },
    {
      "cell_type": "markdown",
      "metadata": {
        "id": "UoEovJrKvLUj"
      },
      "source": [
        "##Function to collect images frame by frame from drive"
      ]
    },
    {
      "cell_type": "code",
      "execution_count": null,
      "metadata": {
        "colab": {
          "background_save": true,
          "base_uri": "https://localhost:8080/"
        },
        "id": "3t2MNkuO4RMw",
        "outputId": "49d265d2-cdd2-400f-ef75-e86fbb553d3c"
      },
      "outputs": [
        {
          "name": "stdout",
          "output_type": "stream",
          "text": [
            "<class 'mediapipe.python.solution_base.SolutionOutputs'>\n",
            "<class 'mediapipe.python.solution_base.SolutionOutputs'>\n",
            "<class 'mediapipe.python.solution_base.SolutionOutputs'>\n",
            "<class 'mediapipe.python.solution_base.SolutionOutputs'>\n",
            "<class 'mediapipe.python.solution_base.SolutionOutputs'>\n",
            "<class 'mediapipe.python.solution_base.SolutionOutputs'>\n",
            "<class 'mediapipe.python.solution_base.SolutionOutputs'>\n",
            "<class 'mediapipe.python.solution_base.SolutionOutputs'>\n",
            "<class 'mediapipe.python.solution_base.SolutionOutputs'>\n",
            "<class 'mediapipe.python.solution_base.SolutionOutputs'>\n",
            "<class 'mediapipe.python.solution_base.SolutionOutputs'>\n",
            "<class 'mediapipe.python.solution_base.SolutionOutputs'>\n",
            "<class 'mediapipe.python.solution_base.SolutionOutputs'>\n",
            "<class 'mediapipe.python.solution_base.SolutionOutputs'>\n",
            "<class 'mediapipe.python.solution_base.SolutionOutputs'>\n",
            "<class 'mediapipe.python.solution_base.SolutionOutputs'>\n",
            "<class 'mediapipe.python.solution_base.SolutionOutputs'>\n",
            "<class 'mediapipe.python.solution_base.SolutionOutputs'>\n",
            "<class 'mediapipe.python.solution_base.SolutionOutputs'>\n",
            "<class 'mediapipe.python.solution_base.SolutionOutputs'>\n",
            "<class 'mediapipe.python.solution_base.SolutionOutputs'>\n",
            "<class 'mediapipe.python.solution_base.SolutionOutputs'>\n",
            "<class 'mediapipe.python.solution_base.SolutionOutputs'>\n",
            "<class 'mediapipe.python.solution_base.SolutionOutputs'>\n",
            "<class 'mediapipe.python.solution_base.SolutionOutputs'>\n",
            "<class 'mediapipe.python.solution_base.SolutionOutputs'>\n",
            "<class 'mediapipe.python.solution_base.SolutionOutputs'>\n",
            "<class 'mediapipe.python.solution_base.SolutionOutputs'>\n",
            "<class 'mediapipe.python.solution_base.SolutionOutputs'>\n",
            "<class 'mediapipe.python.solution_base.SolutionOutputs'>\n",
            "<class 'mediapipe.python.solution_base.SolutionOutputs'>\n",
            "<class 'mediapipe.python.solution_base.SolutionOutputs'>\n",
            "<class 'mediapipe.python.solution_base.SolutionOutputs'>\n",
            "<class 'mediapipe.python.solution_base.SolutionOutputs'>\n",
            "<class 'mediapipe.python.solution_base.SolutionOutputs'>\n",
            "<class 'mediapipe.python.solution_base.SolutionOutputs'>\n",
            "<class 'mediapipe.python.solution_base.SolutionOutputs'>\n",
            "<class 'mediapipe.python.solution_base.SolutionOutputs'>\n",
            "<class 'mediapipe.python.solution_base.SolutionOutputs'>\n",
            "<class 'mediapipe.python.solution_base.SolutionOutputs'>\n",
            "<class 'mediapipe.python.solution_base.SolutionOutputs'>\n",
            "<class 'mediapipe.python.solution_base.SolutionOutputs'>\n",
            "<class 'mediapipe.python.solution_base.SolutionOutputs'>\n",
            "<class 'mediapipe.python.solution_base.SolutionOutputs'>\n",
            "<class 'mediapipe.python.solution_base.SolutionOutputs'>\n",
            "<class 'mediapipe.python.solution_base.SolutionOutputs'>\n",
            "<class 'mediapipe.python.solution_base.SolutionOutputs'>\n",
            "<class 'mediapipe.python.solution_base.SolutionOutputs'>\n",
            "<class 'mediapipe.python.solution_base.SolutionOutputs'>\n",
            "<class 'mediapipe.python.solution_base.SolutionOutputs'>\n",
            "<class 'mediapipe.python.solution_base.SolutionOutputs'>\n",
            "<class 'mediapipe.python.solution_base.SolutionOutputs'>\n",
            "<class 'mediapipe.python.solution_base.SolutionOutputs'>\n",
            "<class 'mediapipe.python.solution_base.SolutionOutputs'>\n",
            "<class 'mediapipe.python.solution_base.SolutionOutputs'>\n",
            "<class 'mediapipe.python.solution_base.SolutionOutputs'>\n",
            "<class 'mediapipe.python.solution_base.SolutionOutputs'>\n",
            "<class 'mediapipe.python.solution_base.SolutionOutputs'>\n",
            "<class 'mediapipe.python.solution_base.SolutionOutputs'>\n",
            "<class 'mediapipe.python.solution_base.SolutionOutputs'>\n",
            "<class 'mediapipe.python.solution_base.SolutionOutputs'>\n",
            "<class 'mediapipe.python.solution_base.SolutionOutputs'>\n",
            "<class 'mediapipe.python.solution_base.SolutionOutputs'>\n",
            "<class 'mediapipe.python.solution_base.SolutionOutputs'>\n",
            "<class 'mediapipe.python.solution_base.SolutionOutputs'>\n",
            "<class 'mediapipe.python.solution_base.SolutionOutputs'>\n",
            "<class 'mediapipe.python.solution_base.SolutionOutputs'>\n",
            "<class 'mediapipe.python.solution_base.SolutionOutputs'>\n",
            "<class 'mediapipe.python.solution_base.SolutionOutputs'>\n",
            "<class 'mediapipe.python.solution_base.SolutionOutputs'>\n",
            "<class 'mediapipe.python.solution_base.SolutionOutputs'>\n",
            "<class 'mediapipe.python.solution_base.SolutionOutputs'>\n",
            "<class 'mediapipe.python.solution_base.SolutionOutputs'>\n",
            "<class 'mediapipe.python.solution_base.SolutionOutputs'>\n",
            "<class 'mediapipe.python.solution_base.SolutionOutputs'>\n",
            "<class 'mediapipe.python.solution_base.SolutionOutputs'>\n",
            "<class 'mediapipe.python.solution_base.SolutionOutputs'>\n",
            "<class 'mediapipe.python.solution_base.SolutionOutputs'>\n",
            "<class 'mediapipe.python.solution_base.SolutionOutputs'>\n",
            "<class 'mediapipe.python.solution_base.SolutionOutputs'>\n",
            "<class 'mediapipe.python.solution_base.SolutionOutputs'>\n",
            "<class 'mediapipe.python.solution_base.SolutionOutputs'>\n",
            "<class 'mediapipe.python.solution_base.SolutionOutputs'>\n",
            "<class 'mediapipe.python.solution_base.SolutionOutputs'>\n",
            "<class 'mediapipe.python.solution_base.SolutionOutputs'>\n",
            "<class 'mediapipe.python.solution_base.SolutionOutputs'>\n",
            "<class 'mediapipe.python.solution_base.SolutionOutputs'>\n",
            "<class 'mediapipe.python.solution_base.SolutionOutputs'>\n",
            "<class 'mediapipe.python.solution_base.SolutionOutputs'>\n",
            "<class 'mediapipe.python.solution_base.SolutionOutputs'>\n",
            "<class 'mediapipe.python.solution_base.SolutionOutputs'>\n",
            "<class 'mediapipe.python.solution_base.SolutionOutputs'>\n",
            "<class 'mediapipe.python.solution_base.SolutionOutputs'>\n",
            "<class 'mediapipe.python.solution_base.SolutionOutputs'>\n",
            "<class 'mediapipe.python.solution_base.SolutionOutputs'>\n",
            "<class 'mediapipe.python.solution_base.SolutionOutputs'>\n",
            "<class 'mediapipe.python.solution_base.SolutionOutputs'>\n",
            "<class 'mediapipe.python.solution_base.SolutionOutputs'>\n",
            "<class 'mediapipe.python.solution_base.SolutionOutputs'>\n",
            "<class 'mediapipe.python.solution_base.SolutionOutputs'>\n",
            "<class 'mediapipe.python.solution_base.SolutionOutputs'>\n",
            "<class 'mediapipe.python.solution_base.SolutionOutputs'>\n",
            "<class 'mediapipe.python.solution_base.SolutionOutputs'>\n",
            "<class 'mediapipe.python.solution_base.SolutionOutputs'>\n",
            "<class 'mediapipe.python.solution_base.SolutionOutputs'>\n",
            "<class 'mediapipe.python.solution_base.SolutionOutputs'>\n",
            "<class 'mediapipe.python.solution_base.SolutionOutputs'>\n",
            "<class 'mediapipe.python.solution_base.SolutionOutputs'>\n",
            "<class 'mediapipe.python.solution_base.SolutionOutputs'>\n",
            "<class 'mediapipe.python.solution_base.SolutionOutputs'>\n",
            "<class 'mediapipe.python.solution_base.SolutionOutputs'>\n",
            "<class 'mediapipe.python.solution_base.SolutionOutputs'>\n",
            "<class 'mediapipe.python.solution_base.SolutionOutputs'>\n",
            "<class 'mediapipe.python.solution_base.SolutionOutputs'>\n",
            "<class 'mediapipe.python.solution_base.SolutionOutputs'>\n",
            "<class 'mediapipe.python.solution_base.SolutionOutputs'>\n",
            "<class 'mediapipe.python.solution_base.SolutionOutputs'>\n",
            "<class 'mediapipe.python.solution_base.SolutionOutputs'>\n",
            "<class 'mediapipe.python.solution_base.SolutionOutputs'>\n",
            "<class 'mediapipe.python.solution_base.SolutionOutputs'>\n",
            "<class 'mediapipe.python.solution_base.SolutionOutputs'>\n",
            "<class 'mediapipe.python.solution_base.SolutionOutputs'>\n",
            "<class 'mediapipe.python.solution_base.SolutionOutputs'>\n",
            "<class 'mediapipe.python.solution_base.SolutionOutputs'>\n",
            "<class 'mediapipe.python.solution_base.SolutionOutputs'>\n",
            "<class 'mediapipe.python.solution_base.SolutionOutputs'>\n",
            "<class 'mediapipe.python.solution_base.SolutionOutputs'>\n",
            "<class 'mediapipe.python.solution_base.SolutionOutputs'>\n",
            "<class 'mediapipe.python.solution_base.SolutionOutputs'>\n",
            "<class 'mediapipe.python.solution_base.SolutionOutputs'>\n",
            "<class 'mediapipe.python.solution_base.SolutionOutputs'>\n",
            "<class 'mediapipe.python.solution_base.SolutionOutputs'>\n",
            "<class 'mediapipe.python.solution_base.SolutionOutputs'>\n",
            "<class 'mediapipe.python.solution_base.SolutionOutputs'>\n",
            "<class 'mediapipe.python.solution_base.SolutionOutputs'>\n",
            "<class 'mediapipe.python.solution_base.SolutionOutputs'>\n",
            "<class 'mediapipe.python.solution_base.SolutionOutputs'>\n",
            "<class 'mediapipe.python.solution_base.SolutionOutputs'>\n",
            "<class 'mediapipe.python.solution_base.SolutionOutputs'>\n",
            "<class 'mediapipe.python.solution_base.SolutionOutputs'>\n",
            "<class 'mediapipe.python.solution_base.SolutionOutputs'>\n",
            "<class 'mediapipe.python.solution_base.SolutionOutputs'>\n",
            "<class 'mediapipe.python.solution_base.SolutionOutputs'>\n",
            "<class 'mediapipe.python.solution_base.SolutionOutputs'>\n",
            "<class 'mediapipe.python.solution_base.SolutionOutputs'>\n",
            "<class 'mediapipe.python.solution_base.SolutionOutputs'>\n",
            "<class 'mediapipe.python.solution_base.SolutionOutputs'>\n",
            "<class 'mediapipe.python.solution_base.SolutionOutputs'>\n",
            "<class 'mediapipe.python.solution_base.SolutionOutputs'>\n",
            "<class 'mediapipe.python.solution_base.SolutionOutputs'>\n",
            "<class 'mediapipe.python.solution_base.SolutionOutputs'>\n",
            "<class 'mediapipe.python.solution_base.SolutionOutputs'>\n",
            "<class 'mediapipe.python.solution_base.SolutionOutputs'>\n",
            "<class 'mediapipe.python.solution_base.SolutionOutputs'>\n",
            "<class 'mediapipe.python.solution_base.SolutionOutputs'>\n",
            "<class 'mediapipe.python.solution_base.SolutionOutputs'>\n",
            "<class 'mediapipe.python.solution_base.SolutionOutputs'>\n",
            "<class 'mediapipe.python.solution_base.SolutionOutputs'>\n",
            "<class 'mediapipe.python.solution_base.SolutionOutputs'>\n",
            "<class 'mediapipe.python.solution_base.SolutionOutputs'>\n",
            "<class 'mediapipe.python.solution_base.SolutionOutputs'>\n",
            "<class 'mediapipe.python.solution_base.SolutionOutputs'>\n",
            "<class 'mediapipe.python.solution_base.SolutionOutputs'>\n",
            "<class 'mediapipe.python.solution_base.SolutionOutputs'>\n",
            "<class 'mediapipe.python.solution_base.SolutionOutputs'>\n",
            "<class 'mediapipe.python.solution_base.SolutionOutputs'>\n",
            "<class 'mediapipe.python.solution_base.SolutionOutputs'>\n",
            "<class 'mediapipe.python.solution_base.SolutionOutputs'>\n",
            "<class 'mediapipe.python.solution_base.SolutionOutputs'>\n",
            "<class 'mediapipe.python.solution_base.SolutionOutputs'>\n",
            "<class 'mediapipe.python.solution_base.SolutionOutputs'>\n",
            "<class 'mediapipe.python.solution_base.SolutionOutputs'>\n",
            "<class 'mediapipe.python.solution_base.SolutionOutputs'>\n",
            "<class 'mediapipe.python.solution_base.SolutionOutputs'>\n",
            "<class 'mediapipe.python.solution_base.SolutionOutputs'>\n",
            "<class 'mediapipe.python.solution_base.SolutionOutputs'>\n",
            "<class 'mediapipe.python.solution_base.SolutionOutputs'>\n",
            "<class 'mediapipe.python.solution_base.SolutionOutputs'>\n",
            "<class 'mediapipe.python.solution_base.SolutionOutputs'>\n",
            "<class 'mediapipe.python.solution_base.SolutionOutputs'>\n",
            "<class 'mediapipe.python.solution_base.SolutionOutputs'>\n",
            "<class 'mediapipe.python.solution_base.SolutionOutputs'>\n",
            "<class 'mediapipe.python.solution_base.SolutionOutputs'>\n",
            "<class 'mediapipe.python.solution_base.SolutionOutputs'>\n",
            "<class 'mediapipe.python.solution_base.SolutionOutputs'>\n",
            "<class 'mediapipe.python.solution_base.SolutionOutputs'>\n",
            "<class 'mediapipe.python.solution_base.SolutionOutputs'>\n",
            "<class 'mediapipe.python.solution_base.SolutionOutputs'>\n",
            "<class 'mediapipe.python.solution_base.SolutionOutputs'>\n",
            "<class 'mediapipe.python.solution_base.SolutionOutputs'>\n",
            "<class 'mediapipe.python.solution_base.SolutionOutputs'>\n",
            "<class 'mediapipe.python.solution_base.SolutionOutputs'>\n",
            "<class 'mediapipe.python.solution_base.SolutionOutputs'>\n",
            "<class 'mediapipe.python.solution_base.SolutionOutputs'>\n",
            "<class 'mediapipe.python.solution_base.SolutionOutputs'>\n",
            "<class 'mediapipe.python.solution_base.SolutionOutputs'>\n",
            "<class 'mediapipe.python.solution_base.SolutionOutputs'>\n",
            "<class 'mediapipe.python.solution_base.SolutionOutputs'>\n",
            "<class 'mediapipe.python.solution_base.SolutionOutputs'>\n",
            "<class 'mediapipe.python.solution_base.SolutionOutputs'>\n",
            "<class 'mediapipe.python.solution_base.SolutionOutputs'>\n",
            "<class 'mediapipe.python.solution_base.SolutionOutputs'>\n",
            "<class 'mediapipe.python.solution_base.SolutionOutputs'>\n",
            "<class 'mediapipe.python.solution_base.SolutionOutputs'>\n",
            "<class 'mediapipe.python.solution_base.SolutionOutputs'>\n",
            "<class 'mediapipe.python.solution_base.SolutionOutputs'>\n",
            "<class 'mediapipe.python.solution_base.SolutionOutputs'>\n",
            "<class 'mediapipe.python.solution_base.SolutionOutputs'>\n",
            "<class 'mediapipe.python.solution_base.SolutionOutputs'>\n",
            "<class 'mediapipe.python.solution_base.SolutionOutputs'>\n",
            "<class 'mediapipe.python.solution_base.SolutionOutputs'>\n",
            "<class 'mediapipe.python.solution_base.SolutionOutputs'>\n",
            "<class 'mediapipe.python.solution_base.SolutionOutputs'>\n",
            "<class 'mediapipe.python.solution_base.SolutionOutputs'>\n",
            "<class 'mediapipe.python.solution_base.SolutionOutputs'>\n",
            "<class 'mediapipe.python.solution_base.SolutionOutputs'>\n",
            "<class 'mediapipe.python.solution_base.SolutionOutputs'>\n",
            "<class 'mediapipe.python.solution_base.SolutionOutputs'>\n",
            "<class 'mediapipe.python.solution_base.SolutionOutputs'>\n",
            "<class 'mediapipe.python.solution_base.SolutionOutputs'>\n",
            "<class 'mediapipe.python.solution_base.SolutionOutputs'>\n",
            "<class 'mediapipe.python.solution_base.SolutionOutputs'>\n",
            "<class 'mediapipe.python.solution_base.SolutionOutputs'>\n",
            "<class 'mediapipe.python.solution_base.SolutionOutputs'>\n",
            "<class 'mediapipe.python.solution_base.SolutionOutputs'>\n",
            "<class 'mediapipe.python.solution_base.SolutionOutputs'>\n",
            "<class 'mediapipe.python.solution_base.SolutionOutputs'>\n",
            "<class 'mediapipe.python.solution_base.SolutionOutputs'>\n",
            "<class 'mediapipe.python.solution_base.SolutionOutputs'>\n",
            "<class 'mediapipe.python.solution_base.SolutionOutputs'>\n",
            "<class 'mediapipe.python.solution_base.SolutionOutputs'>\n",
            "<class 'mediapipe.python.solution_base.SolutionOutputs'>\n",
            "<class 'mediapipe.python.solution_base.SolutionOutputs'>\n",
            "<class 'mediapipe.python.solution_base.SolutionOutputs'>\n",
            "<class 'mediapipe.python.solution_base.SolutionOutputs'>\n",
            "Error opening video stream or file\n",
            "<class 'mediapipe.python.solution_base.SolutionOutputs'>\n",
            "<class 'mediapipe.python.solution_base.SolutionOutputs'>\n",
            "<class 'mediapipe.python.solution_base.SolutionOutputs'>\n",
            "<class 'mediapipe.python.solution_base.SolutionOutputs'>\n",
            "<class 'mediapipe.python.solution_base.SolutionOutputs'>\n",
            "<class 'mediapipe.python.solution_base.SolutionOutputs'>\n",
            "<class 'mediapipe.python.solution_base.SolutionOutputs'>\n",
            "<class 'mediapipe.python.solution_base.SolutionOutputs'>\n",
            "<class 'mediapipe.python.solution_base.SolutionOutputs'>\n",
            "<class 'mediapipe.python.solution_base.SolutionOutputs'>\n",
            "<class 'mediapipe.python.solution_base.SolutionOutputs'>\n",
            "<class 'mediapipe.python.solution_base.SolutionOutputs'>\n",
            "<class 'mediapipe.python.solution_base.SolutionOutputs'>\n",
            "<class 'mediapipe.python.solution_base.SolutionOutputs'>\n",
            "<class 'mediapipe.python.solution_base.SolutionOutputs'>\n",
            "<class 'mediapipe.python.solution_base.SolutionOutputs'>\n",
            "<class 'mediapipe.python.solution_base.SolutionOutputs'>\n",
            "<class 'mediapipe.python.solution_base.SolutionOutputs'>\n",
            "<class 'mediapipe.python.solution_base.SolutionOutputs'>\n",
            "<class 'mediapipe.python.solution_base.SolutionOutputs'>\n",
            "<class 'mediapipe.python.solution_base.SolutionOutputs'>\n",
            "<class 'mediapipe.python.solution_base.SolutionOutputs'>\n",
            "<class 'mediapipe.python.solution_base.SolutionOutputs'>\n",
            "<class 'mediapipe.python.solution_base.SolutionOutputs'>\n",
            "<class 'mediapipe.python.solution_base.SolutionOutputs'>\n",
            "<class 'mediapipe.python.solution_base.SolutionOutputs'>\n",
            "<class 'mediapipe.python.solution_base.SolutionOutputs'>\n",
            "<class 'mediapipe.python.solution_base.SolutionOutputs'>\n",
            "<class 'mediapipe.python.solution_base.SolutionOutputs'>\n",
            "<class 'mediapipe.python.solution_base.SolutionOutputs'>\n",
            "Error opening video stream or file\n",
            "<class 'mediapipe.python.solution_base.SolutionOutputs'>\n",
            "<class 'mediapipe.python.solution_base.SolutionOutputs'>\n",
            "<class 'mediapipe.python.solution_base.SolutionOutputs'>\n",
            "<class 'mediapipe.python.solution_base.SolutionOutputs'>\n",
            "<class 'mediapipe.python.solution_base.SolutionOutputs'>\n",
            "<class 'mediapipe.python.solution_base.SolutionOutputs'>\n",
            "<class 'mediapipe.python.solution_base.SolutionOutputs'>\n",
            "<class 'mediapipe.python.solution_base.SolutionOutputs'>\n",
            "<class 'mediapipe.python.solution_base.SolutionOutputs'>\n",
            "<class 'mediapipe.python.solution_base.SolutionOutputs'>\n",
            "<class 'mediapipe.python.solution_base.SolutionOutputs'>\n",
            "<class 'mediapipe.python.solution_base.SolutionOutputs'>\n",
            "<class 'mediapipe.python.solution_base.SolutionOutputs'>\n",
            "<class 'mediapipe.python.solution_base.SolutionOutputs'>\n",
            "<class 'mediapipe.python.solution_base.SolutionOutputs'>\n",
            "<class 'mediapipe.python.solution_base.SolutionOutputs'>\n",
            "<class 'mediapipe.python.solution_base.SolutionOutputs'>\n"
          ]
        },
        {
          "data": {
            "image/png": "[encoded data removed]",
            "text/plain": [
              "<Figure size 432x288 with 1 Axes>"
            ]
          },
          "metadata": {},
          "output_type": "display_data"
        }
      ],
      "source": [
        "from pathlib import Path                                                        # Path object from pathlib\n",
        "import re\n",
        "\n",
        "labels = os.listdir(FOLDER_DIR_DRIVE)                                           # returning list of names of all the files/folders in the mentioned directory \n",
        "paths = Path(FOLDER_DIR_DRIVE).glob('**/*.jpg')                                 # returning list of all the files / folders of matching kind\n",
        "for label in labels:\n",
        "  i = 0\n",
        "  try:\n",
        "      os.makedirs(os.path.join(SAVE_DIR,str(label)))                            # IN SAVE_DIR directory , all subdirectories titled label name are made with every iteration in loop\n",
        "  except:\n",
        "      pass                                                                      # Execute this when an error is made \n",
        "  # os.makedirs(os.path.join(SAVE_DIR,str(label)))                                 \n",
        "  for image in os.listdir(os.path.join(FOLDER_DIR_DRIVE,str(label))):           # os.listdir(os.path.join(FOLDER_DIR_DRIVE,str(label))) = list of all the files in every label folder residing in Dataset\n",
        "    path = os.path.join(FOLDER_DIR_DRIVE,str(label),str(image))                 # path = path of individual file present (accessed using os.path.join module )\n",
        "    save_dir = os.path.join(SAVE_DIR,str(label),str(i))                         # path of a individual folder/file in the 'label' directory that'll store the numpy array values of an individual image or frame \n",
        "    generate_keypoints(path,save_dir)                                           # passing the path of individual frame and the path of individual file to store its corresponding numpy array value\n",
        "    i += 1\n",
        "    "
      ]
    },
    {
      "cell_type": "code",
      "execution_count": null,
      "metadata": {
        "colab": {
          "background_save": true
        },
        "id": "CYPkB13RRVhO"
      },
      "outputs": [],
      "source": [
        "def remove_empty_folders(path_abs):\n",
        "    walk = list(os.walk(path_abs))               # returns the tuple for directory in the directory tree\n",
        "    for path, _, _ in walk[::-1]:               \n",
        "        if len(os.listdir(path)) == 0:           # Checking whether the folder is empty \n",
        "            os.rmdir(path)                       # removing the folder "
      ]
    },
    {
      "cell_type": "code",
      "execution_count": null,
      "metadata": {
        "colab": {
          "background_save": true
        },
        "id": "TwZ6eWdWRb5p"
      },
      "outputs": [],
      "source": [
        "remove_empty_folders(SAVE_DIR)"
      ]
    },
    {
      "cell_type": "markdown",
      "metadata": {
        "id": "geIP1pZpv309"
      },
      "source": [
        "#3) Creating Input and Target Variable for Neural Network"
      ]
    },
    {
      "cell_type": "code",
      "execution_count": null,
      "metadata": {
        "colab": {
          "background_save": true
        },
        "id": "J1oLrfYxRQgY"
      },
      "outputs": [],
      "source": [
        "labels = os.listdir(SAVE_DIR)              "
      ]
    },
    {
      "cell_type": "code",
      "execution_count": null,
      "metadata": {
        "colab": {
          "background_save": true
        },
        "id": "k8Gktf6-guZd"
      },
      "outputs": [],
      "source": [
        "labels_list = ['YOU','I_ME_MINE_MY','UNDERSTAND','FOOD','LIKE','LOVE','CLASS','HEART','AFRAID','ANGRY','GOOD']"
      ]
    },
    {
      "cell_type": "code",
      "execution_count": null,
      "metadata": {
        "colab": {
          "background_save": true
        },
        "id": "zyQ2mdi77zD_",
        "outputId": "9c40d140-1226-4d66-886b-ed8b521cb072"
      },
      "outputs": [
        {
          "name": "stdout",
          "output_type": "stream",
          "text": [
            "{'YOU': 0, 'I_ME_MINE_MY': 1, 'UNDERSTAND': 2, 'FOOD': 3, 'LIKE': 4, 'LOVE': 5, 'CLASS': 6, 'HEART': 7, 'AFRAID': 8, 'ANGRY': 9, 'GOOD': 10}\n"
          ]
        }
      ],
      "source": [
        "label_map_list = {key:value for value, key in enumerate(labels_list)}  # enumerating(storing counters) the list and storing it as key value pairs\n",
        "# enumerate = returns counters , value , counter in value\n",
        "print(label_map_list)                 "
      ]
    },
    {
      "cell_type": "code",
      "execution_count": null,
      "metadata": {
        "colab": {
          "background_save": true
        },
        "id": "48Wkbu3zkW-p"
      },
      "outputs": [],
      "source": [
        "images_1 , targets_1 = [],[]                                                   "
      ]
    },
    {
      "cell_type": "code",
      "execution_count": null,
      "metadata": {
        "colab": {
          "background_save": true
        },
        "id": "-rKiHn0GkEpe"
      },
      "outputs": [],
      "source": [
        "for label in labels_list:\n",
        "  array = []\n",
        "  for i in os.listdir(os.path.join(SAVE_DIR,str(label))):     # os.listdir is returning list of all the files from the particular label folder ( list of 0.npy , 1.npy etc)\n",
        "    array = np.load(os.path.join(SAVE_DIR,str(label),str(i))) # array = numpy array stored in particular file (0.npy) of particular folder(label) \n",
        "    images_1.append(array)                                    # saving the array(numpy value) into list for particular i\n",
        "    targets_1.append(label_map_list[label])                   # saving the target(value in label_map_list) i number of times for every label\n",
        "# as for one label target is same and is should be assigned to each frame(numpy value)(i)\n",
        "#(images_1) gets appended with 1662 values 282 times , hence shape = 282 , 1662(r,c)\n"
      ]
    },
    {
      "cell_type": "code",
      "execution_count": null,
      "metadata": {
        "colab": {
          "background_save": true
        },
        "id": "GDwb-7NxYO2v",
        "outputId": "f5ea9da2-7035-4fc1-a70a-d0254f31dace"
      },
      "outputs": [
        {
          "data": {
            "text/plain": [
              "282"
            ]
          },
          "execution_count": null,
          "metadata": {},
          "output_type": "execute_result"
        }
      ],
      "source": [
        "len(targets_1)  \n",
        "# Total 282 npy files in all label folders\n",
        "# 11 labels = 11 categories / 11 classes \n",
        "# these classes are stored in taregts_1 with some repitions according to how much frames we have for these classes"
      ]
    },
    {
      "cell_type": "code",
      "execution_count": null,
      "metadata": {
        "colab": {
          "background_save": true
        },
        "id": "RF8WbcMJsHy1"
      },
      "outputs": [],
      "source": [
        "np.save('/content/drive/MyDrive/Mini_Project/images_1.npy',images_1)            \n",
        "np.save('/content/drive/MyDrive/Mini_Project/targets_1.npy',targets_1)"
      ]
    },
    {
      "cell_type": "code",
      "execution_count": null,
      "metadata": {
        "colab": {
          "background_save": true
        },
        "id": "xeNQJDpo-Pl2"
      },
      "outputs": [],
      "source": [
        "images_1 = np.load('/content/drive/MyDrive/Mini_Project/images_1.npy')         \n",
        "targets_1 = np.load('/content/drive/MyDrive/Mini_Project/targets_1.npy')\n"
      ]
    },
    {
      "cell_type": "code",
      "execution_count": null,
      "metadata": {
        "colab": {
          "background_save": true
        },
        "id": "IgcD73UFyHg3"
      },
      "outputs": [],
      "source": [
        "from sklearn.model_selection import train_test_split                            \n",
        "from tensorflow.keras.utils import to_categorical                               "
      ]
    },
    {
      "cell_type": "code",
      "execution_count": null,
      "metadata": {
        "colab": {
          "background_save": true
        },
        "id": "f5luPoXExfLO"
      },
      "outputs": [],
      "source": [
        "X = np.array(images_1)    # input for model ( numpy array containing all the positions of the landmarks)"
      ]
    },
    {
      "cell_type": "code",
      "execution_count": null,
      "metadata": {
        "colab": {
          "background_save": true
        },
        "id": "oiz4cTOIyHg4"
      },
      "outputs": [],
      "source": [
        "y = to_categorical(targets_1).astype(int)   # performed one hot encoding on targets_1 and stored in y "
      ]
    },
    {
      "cell_type": "code",
      "execution_count": null,
      "metadata": {
        "colab": {
          "background_save": true
        },
        "id": "UIC4QFbwxrsq"
      },
      "outputs": [],
      "source": [
        "X_train, X_test, y_train, y_test = train_test_split(X, y, test_size=0.40, random_state=42, shuffle = True)"
      ]
    },
    {
      "cell_type": "markdown",
      "metadata": {
        "id": "PWi_aB_-wknN"
      },
      "source": [
        "#4) Model Training"
      ]
    },
    {
      "cell_type": "code",
      "execution_count": null,
      "metadata": {
        "colab": {
          "background_save": true
        },
        "id": "k-mEvQZk7Gjz"
      },
      "outputs": [],
      "source": [
        "from tensorflow.keras.models import Sequential\n",
        "from tensorflow.keras.layers import Dense\n",
        "from tensorflow.keras import layers\n",
        "from tensorflow.keras.callbacks import TensorBoard"
      ]
    },
    {
      "cell_type": "code",
      "execution_count": null,
      "metadata": {
        "colab": {
          "background_save": true
        },
        "id": "gmgcz4tg7Ce8"
      },
      "outputs": [],
      "source": [
        "model = Sequential()\n",
        "\n",
        "model.add(Dense(512, activation='tanh',input_shape = X_train[1].shape))\n",
        "\n",
        "model.add(Dense(256, activation='relu'))\n",
        "\n",
        "model.add(Dense(128, activation='relu'))\n",
        "\n",
        "model.add(Dense(64, activation='relu'))\n",
        "\n",
        "model.add(Dense(11, activation='softmax'))                                        "
      ]
    },
    {
      "cell_type": "code",
      "execution_count": null,
      "metadata": {
        "colab": {
          "background_save": true
        },
        "id": "wMY73Cet6Jvo"
      },
      "outputs": [],
      "source": [
        "import tensorflow as tf\n",
        "model.compile(loss='categorical_crossentropy', optimizer='adam', metrics=['accuracy',tf.keras.metrics.Precision()])"
      ]
    },
    {
      "cell_type": "markdown",
      "metadata": {
        "id": "52rDXlBnxCqI"
      },
      "source": [
        "##Using callback object to solve overfitting"
      ]
    },
    {
      "cell_type": "code",
      "execution_count": null,
      "metadata": {
        "colab": {
          "background_save": true
        },
        "id": "nKi1EYAFMGiq"
      },
      "outputs": [],
      "source": [
        "import tensorflow as tf\n",
        "\n",
        "# Implement callback function to stop training\n",
        "# when accuracy reaches ACCURACY_THRESHOLD\n",
        "ACCURACY_THRESHOLD = 0.99\n",
        "\n",
        "class myCallback(tf.keras.callbacks.Callback):\n",
        "\tdef on_epoch_end(self, epoch, logs={}):\n",
        "\t\tif(logs.get('accuracy') > ACCURACY_THRESHOLD):\n",
        "\t\t\tprint(\"\\nReached %2.2f%% accuracy, so stopping training!!\" %(ACCURACY_THRESHOLD*100))\n",
        "\t\t\tself.model.stop_training = True\n",
        "\n",
        "# Instantiate a callback object\n",
        "callbacks = myCallback()"
      ]
    },
    {
      "cell_type": "code",
      "execution_count": null,
      "metadata": {
        "colab": {
          "background_save": true
        },
        "id": "F05VYjl168gj",
        "outputId": "20f74fbd-10f0-43a4-fa6a-74cf13b0cb69"
      },
      "outputs": [
        {
          "name": "stdout",
          "output_type": "stream",
          "text": [
            "Epoch 1/1000\n",
            "6/6 - 1s - loss: 1.9678 - accuracy: 0.2899 - precision: 0.3750 - 983ms/epoch - 164ms/step\n",
            "Epoch 2/1000\n",
            "6/6 - 0s - loss: 1.6415 - accuracy: 0.3728 - precision: 0.4074 - 49ms/epoch - 8ms/step\n",
            "Epoch 3/1000\n",
            "6/6 - 0s - loss: 1.6429 - accuracy: 0.3491 - precision: 0.4167 - 51ms/epoch - 8ms/step\n",
            "Epoch 4/1000\n",
            "6/6 - 0s - loss: 1.6585 - accuracy: 0.3018 - precision: 0.3478 - 46ms/epoch - 8ms/step\n",
            "Epoch 5/1000\n",
            "6/6 - 0s - loss: 1.6016 - accuracy: 0.4556 - precision: 0.0000e+00 - 52ms/epoch - 9ms/step\n",
            "Epoch 6/1000\n",
            "6/6 - 0s - loss: 1.6012 - accuracy: 0.3846 - precision: 0.0000e+00 - 56ms/epoch - 9ms/step\n",
            "Epoch 7/1000\n",
            "6/6 - 0s - loss: 1.5934 - accuracy: 0.4201 - precision: 0.4464 - 53ms/epoch - 9ms/step\n",
            "Epoch 8/1000\n",
            "6/6 - 0s - loss: 1.6050 - accuracy: 0.3491 - precision: 0.5082 - 66ms/epoch - 11ms/step\n",
            "Epoch 9/1000\n",
            "6/6 - 0s - loss: 1.5607 - accuracy: 0.4142 - precision: 0.7273 - 52ms/epoch - 9ms/step\n",
            "Epoch 10/1000\n",
            "6/6 - 0s - loss: 1.5395 - accuracy: 0.4793 - precision: 0.5000 - 53ms/epoch - 9ms/step\n",
            "Epoch 11/1000\n",
            "6/6 - 0s - loss: 1.5818 - accuracy: 0.4260 - precision: 0.4943 - 55ms/epoch - 9ms/step\n",
            "Epoch 12/1000\n",
            "6/6 - 0s - loss: 1.5951 - accuracy: 0.3964 - precision: 0.4330 - 51ms/epoch - 9ms/step\n",
            "Epoch 13/1000\n",
            "6/6 - 0s - loss: 1.5290 - accuracy: 0.4734 - precision: 0.5088 - 53ms/epoch - 9ms/step\n",
            "Epoch 14/1000\n",
            "6/6 - 0s - loss: 1.5693 - accuracy: 0.4320 - precision: 0.4615 - 51ms/epoch - 9ms/step\n",
            "Epoch 15/1000\n",
            "6/6 - 0s - loss: 1.5341 - accuracy: 0.4734 - precision: 0.3333 - 50ms/epoch - 8ms/step\n",
            "Epoch 16/1000\n",
            "6/6 - 0s - loss: 1.5172 - accuracy: 0.4201 - precision: 0.5000 - 56ms/epoch - 9ms/step\n",
            "Epoch 17/1000\n",
            "6/6 - 0s - loss: 1.5049 - accuracy: 0.4201 - precision: 0.5652 - 53ms/epoch - 9ms/step\n",
            "Epoch 18/1000\n",
            "6/6 - 0s - loss: 1.5008 - accuracy: 0.4615 - precision: 0.5102 - 53ms/epoch - 9ms/step\n",
            "Epoch 19/1000\n",
            "6/6 - 0s - loss: 1.4708 - accuracy: 0.4675 - precision: 0.5441 - 53ms/epoch - 9ms/step\n",
            "Epoch 20/1000\n",
            "6/6 - 0s - loss: 1.4756 - accuracy: 0.4675 - precision: 0.5204 - 53ms/epoch - 9ms/step\n",
            "Epoch 21/1000\n",
            "6/6 - 0s - loss: 1.4859 - accuracy: 0.4911 - precision: 0.5312 - 52ms/epoch - 9ms/step\n",
            "Epoch 22/1000\n",
            "6/6 - 0s - loss: 1.4342 - accuracy: 0.5680 - precision: 0.6327 - 55ms/epoch - 9ms/step\n",
            "Epoch 23/1000\n",
            "6/6 - 0s - loss: 1.4928 - accuracy: 0.4438 - precision: 0.5510 - 54ms/epoch - 9ms/step\n",
            "Epoch 24/1000\n",
            "6/6 - 0s - loss: 1.5675 - accuracy: 0.3491 - precision: 0.3929 - 61ms/epoch - 10ms/step\n",
            "Epoch 25/1000\n",
            "6/6 - 0s - loss: 1.4273 - accuracy: 0.4734 - precision: 0.5875 - 55ms/epoch - 9ms/step\n",
            "Epoch 26/1000\n",
            "6/6 - 0s - loss: 1.4354 - accuracy: 0.4379 - precision: 0.5584 - 57ms/epoch - 9ms/step\n",
            "Epoch 27/1000\n",
            "6/6 - 0s - loss: 1.4481 - accuracy: 0.4556 - precision: 0.5000 - 57ms/epoch - 9ms/step\n",
            "Epoch 28/1000\n",
            "6/6 - 0s - loss: 1.3423 - accuracy: 0.5266 - precision: 0.6512 - 52ms/epoch - 9ms/step\n",
            "Epoch 29/1000\n",
            "6/6 - 0s - loss: 1.3255 - accuracy: 0.5503 - precision: 0.6990 - 54ms/epoch - 9ms/step\n",
            "Epoch 30/1000\n",
            "6/6 - 0s - loss: 1.3129 - accuracy: 0.5740 - precision: 0.6475 - 56ms/epoch - 9ms/step\n",
            "Epoch 31/1000\n",
            "6/6 - 0s - loss: 1.3455 - accuracy: 0.5325 - precision: 0.6935 - 54ms/epoch - 9ms/step\n",
            "Epoch 32/1000\n",
            "6/6 - 0s - loss: 1.3959 - accuracy: 0.5207 - precision: 0.5468 - 54ms/epoch - 9ms/step\n",
            "Epoch 33/1000\n",
            "6/6 - 0s - loss: 1.2758 - accuracy: 0.5799 - precision: 0.6860 - 54ms/epoch - 9ms/step\n",
            "Epoch 34/1000\n",
            "6/6 - 0s - loss: 1.2191 - accuracy: 0.5680 - precision: 0.6695 - 53ms/epoch - 9ms/step\n",
            "Epoch 35/1000\n",
            "6/6 - 0s - loss: 1.2764 - accuracy: 0.6095 - precision: 0.6889 - 50ms/epoch - 8ms/step\n",
            "Epoch 36/1000\n",
            "6/6 - 0s - loss: 1.2250 - accuracy: 0.5858 - precision: 0.6838 - 52ms/epoch - 9ms/step\n",
            "Epoch 37/1000\n",
            "6/6 - 0s - loss: 1.1640 - accuracy: 0.6272 - precision: 0.7179 - 50ms/epoch - 8ms/step\n",
            "Epoch 38/1000\n",
            "6/6 - 0s - loss: 1.1419 - accuracy: 0.6095 - precision: 0.6912 - 50ms/epoch - 8ms/step\n",
            "Epoch 39/1000\n",
            "6/6 - 0s - loss: 1.1608 - accuracy: 0.7041 - precision: 0.8111 - 54ms/epoch - 9ms/step\n",
            "Epoch 40/1000\n",
            "6/6 - 0s - loss: 1.0727 - accuracy: 0.6982 - precision: 0.7891 - 53ms/epoch - 9ms/step\n",
            "Epoch 41/1000\n",
            "6/6 - 0s - loss: 1.0929 - accuracy: 0.6746 - precision: 0.7778 - 67ms/epoch - 11ms/step\n",
            "Epoch 42/1000\n",
            "6/6 - 0s - loss: 1.0918 - accuracy: 0.6509 - precision: 0.7934 - 53ms/epoch - 9ms/step\n",
            "Epoch 43/1000\n",
            "6/6 - 0s - loss: 1.0925 - accuracy: 0.6213 - precision: 0.6992 - 61ms/epoch - 10ms/step\n",
            "Epoch 44/1000\n",
            "6/6 - 0s - loss: 1.0854 - accuracy: 0.6272 - precision: 0.7266 - 53ms/epoch - 9ms/step\n",
            "Epoch 45/1000\n",
            "6/6 - 0s - loss: 1.2359 - accuracy: 0.5503 - precision: 0.6136 - 55ms/epoch - 9ms/step\n",
            "Epoch 46/1000\n",
            "6/6 - 0s - loss: 1.2301 - accuracy: 0.5621 - precision: 0.5946 - 54ms/epoch - 9ms/step\n",
            "Epoch 47/1000\n",
            "6/6 - 0s - loss: 1.4361 - accuracy: 0.5325 - precision: 0.5548 - 52ms/epoch - 9ms/step\n",
            "Epoch 48/1000\n",
            "6/6 - 0s - loss: 1.4194 - accuracy: 0.5148 - precision: 0.7826 - 51ms/epoch - 9ms/step\n",
            "Epoch 49/1000\n",
            "6/6 - 0s - loss: 1.2313 - accuracy: 0.6154 - precision: 0.6972 - 52ms/epoch - 9ms/step\n",
            "Epoch 50/1000\n",
            "6/6 - 0s - loss: 1.1286 - accuracy: 0.6805 - precision: 0.7798 - 54ms/epoch - 9ms/step\n",
            "Epoch 51/1000\n",
            "6/6 - 0s - loss: 1.0172 - accuracy: 0.7041 - precision: 0.8120 - 51ms/epoch - 9ms/step\n",
            "Epoch 52/1000\n",
            "6/6 - 0s - loss: 1.0897 - accuracy: 0.6331 - precision: 0.7122 - 52ms/epoch - 9ms/step\n",
            "Epoch 53/1000\n",
            "6/6 - 0s - loss: 1.2578 - accuracy: 0.5976 - precision: 0.6538 - 56ms/epoch - 9ms/step\n",
            "Epoch 54/1000\n",
            "6/6 - 0s - loss: 1.1555 - accuracy: 0.5680 - precision: 0.6341 - 56ms/epoch - 9ms/step\n",
            "Epoch 55/1000\n",
            "6/6 - 0s - loss: 1.1173 - accuracy: 0.6095 - precision: 0.6721 - 52ms/epoch - 9ms/step\n",
            "Epoch 56/1000\n",
            "6/6 - 0s - loss: 0.9914 - accuracy: 0.6805 - precision: 0.7949 - 53ms/epoch - 9ms/step\n",
            "Epoch 57/1000\n",
            "6/6 - 0s - loss: 0.9625 - accuracy: 0.6982 - precision: 0.7626 - 54ms/epoch - 9ms/step\n",
            "Epoch 58/1000\n",
            "6/6 - 0s - loss: 0.9924 - accuracy: 0.6686 - precision: 0.7500 - 54ms/epoch - 9ms/step\n",
            "Epoch 59/1000\n",
            "6/6 - 0s - loss: 1.0043 - accuracy: 0.6686 - precision: 0.7630 - 61ms/epoch - 10ms/step\n",
            "Epoch 60/1000\n",
            "6/6 - 0s - loss: 0.9173 - accuracy: 0.6982 - precision: 0.7786 - 52ms/epoch - 9ms/step\n",
            "Epoch 61/1000\n",
            "6/6 - 0s - loss: 0.9296 - accuracy: 0.7160 - precision: 0.8512 - 53ms/epoch - 9ms/step\n",
            "Epoch 62/1000\n",
            "6/6 - 0s - loss: 0.9445 - accuracy: 0.6568 - precision: 0.7273 - 53ms/epoch - 9ms/step\n",
            "Epoch 63/1000\n",
            "6/6 - 0s - loss: 0.9564 - accuracy: 0.6982 - precision: 0.7965 - 53ms/epoch - 9ms/step\n",
            "Epoch 64/1000\n",
            "6/6 - 0s - loss: 0.8904 - accuracy: 0.7041 - precision: 0.7926 - 52ms/epoch - 9ms/step\n",
            "Epoch 65/1000\n",
            "6/6 - 0s - loss: 0.8253 - accuracy: 0.7456 - precision: 0.8397 - 51ms/epoch - 9ms/step\n",
            "Epoch 66/1000\n",
            "6/6 - 0s - loss: 0.8294 - accuracy: 0.7633 - precision: 0.8516 - 49ms/epoch - 8ms/step\n",
            "Epoch 67/1000\n",
            "6/6 - 0s - loss: 0.8344 - accuracy: 0.7101 - precision: 0.7823 - 52ms/epoch - 9ms/step\n",
            "Epoch 68/1000\n",
            "6/6 - 0s - loss: 0.8867 - accuracy: 0.7041 - precision: 0.7315 - 50ms/epoch - 8ms/step\n",
            "Epoch 69/1000\n",
            "6/6 - 0s - loss: 0.8186 - accuracy: 0.7515 - precision: 0.8647 - 51ms/epoch - 8ms/step\n",
            "Epoch 70/1000\n",
            "6/6 - 0s - loss: 0.9216 - accuracy: 0.7041 - precision: 0.8070 - 49ms/epoch - 8ms/step\n",
            "Epoch 71/1000\n",
            "6/6 - 0s - loss: 1.0424 - accuracy: 0.6805 - precision: 0.7183 - 51ms/epoch - 9ms/step\n",
            "Epoch 72/1000\n",
            "6/6 - 0s - loss: 0.9290 - accuracy: 0.7101 - precision: 0.7500 - 49ms/epoch - 8ms/step\n",
            "Epoch 73/1000\n",
            "6/6 - 0s - loss: 1.0488 - accuracy: 0.6627 - precision: 0.8333 - 49ms/epoch - 8ms/step\n",
            "Epoch 74/1000\n",
            "6/6 - 0s - loss: 1.0945 - accuracy: 0.6391 - precision: 0.6821 - 50ms/epoch - 8ms/step\n",
            "Epoch 75/1000\n",
            "6/6 - 0s - loss: 0.8293 - accuracy: 0.7337 - precision: 0.8559 - 54ms/epoch - 9ms/step\n",
            "Epoch 76/1000\n",
            "6/6 - 0s - loss: 0.8937 - accuracy: 0.6923 - precision: 0.7535 - 50ms/epoch - 8ms/step\n",
            "Epoch 77/1000\n",
            "6/6 - 0s - loss: 0.7399 - accuracy: 0.7456 - precision: 0.8214 - 68ms/epoch - 11ms/step\n",
            "Epoch 78/1000\n",
            "6/6 - 0s - loss: 0.7621 - accuracy: 0.7219 - precision: 0.7902 - 57ms/epoch - 10ms/step\n",
            "Epoch 79/1000\n",
            "6/6 - 0s - loss: 0.7158 - accuracy: 0.7515 - precision: 0.8478 - 49ms/epoch - 8ms/step\n",
            "Epoch 80/1000\n",
            "6/6 - 0s - loss: 0.7206 - accuracy: 0.7574 - precision: 0.8370 - 50ms/epoch - 8ms/step\n",
            "Epoch 81/1000\n",
            "6/6 - 0s - loss: 0.6736 - accuracy: 0.7574 - precision: 0.8151 - 49ms/epoch - 8ms/step\n",
            "Epoch 82/1000\n",
            "6/6 - 0s - loss: 0.6912 - accuracy: 0.7811 - precision: 0.8440 - 53ms/epoch - 9ms/step\n",
            "Epoch 83/1000\n",
            "6/6 - 0s - loss: 0.7014 - accuracy: 0.7811 - precision: 0.8880 - 47ms/epoch - 8ms/step\n",
            "Epoch 84/1000\n",
            "6/6 - 0s - loss: 0.7497 - accuracy: 0.7515 - precision: 0.7972 - 55ms/epoch - 9ms/step\n",
            "Epoch 85/1000\n",
            "6/6 - 0s - loss: 0.6353 - accuracy: 0.7751 - precision: 0.8493 - 53ms/epoch - 9ms/step\n",
            "Epoch 86/1000\n",
            "6/6 - 0s - loss: 0.6816 - accuracy: 0.7515 - precision: 0.8207 - 52ms/epoch - 9ms/step\n",
            "Epoch 87/1000\n",
            "6/6 - 0s - loss: 0.7944 - accuracy: 0.7278 - precision: 0.8014 - 53ms/epoch - 9ms/step\n",
            "Epoch 88/1000\n",
            "6/6 - 0s - loss: 0.8145 - accuracy: 0.7101 - precision: 0.7724 - 51ms/epoch - 9ms/step\n",
            "Epoch 89/1000\n",
            "6/6 - 0s - loss: 0.9178 - accuracy: 0.6213 - precision: 0.7323 - 52ms/epoch - 9ms/step\n",
            "Epoch 90/1000\n",
            "6/6 - 0s - loss: 0.8728 - accuracy: 0.6450 - precision: 0.7750 - 53ms/epoch - 9ms/step\n",
            "Epoch 91/1000\n",
            "6/6 - 0s - loss: 0.7166 - accuracy: 0.7160 - precision: 0.8162 - 53ms/epoch - 9ms/step\n",
            "Epoch 92/1000\n",
            "6/6 - 0s - loss: 0.7988 - accuracy: 0.7337 - precision: 0.8321 - 51ms/epoch - 9ms/step\n",
            "Epoch 93/1000\n",
            "6/6 - 0s - loss: 0.6205 - accuracy: 0.7811 - precision: 0.8289 - 52ms/epoch - 9ms/step\n",
            "Epoch 94/1000\n",
            "6/6 - 0s - loss: 0.5605 - accuracy: 0.8047 - precision: 0.8707 - 60ms/epoch - 10ms/step\n",
            "Epoch 95/1000\n",
            "6/6 - 0s - loss: 0.6050 - accuracy: 0.7811 - precision: 0.8571 - 67ms/epoch - 11ms/step\n",
            "Epoch 96/1000\n",
            "6/6 - 0s - loss: 0.5964 - accuracy: 0.7574 - precision: 0.8378 - 56ms/epoch - 9ms/step\n",
            "Epoch 97/1000\n",
            "6/6 - 0s - loss: 0.5418 - accuracy: 0.7988 - precision: 0.8571 - 50ms/epoch - 8ms/step\n",
            "Epoch 98/1000\n",
            "6/6 - 0s - loss: 0.5139 - accuracy: 0.7929 - precision: 0.8543 - 54ms/epoch - 9ms/step\n",
            "Epoch 99/1000\n",
            "6/6 - 0s - loss: 0.4987 - accuracy: 0.8107 - precision: 0.8591 - 52ms/epoch - 9ms/step\n",
            "Epoch 100/1000\n",
            "6/6 - 0s - loss: 0.5625 - accuracy: 0.8107 - precision: 0.8421 - 52ms/epoch - 9ms/step\n",
            "Epoch 101/1000\n",
            "6/6 - 0s - loss: 0.6545 - accuracy: 0.7515 - precision: 0.8252 - 54ms/epoch - 9ms/step\n",
            "Epoch 102/1000\n",
            "6/6 - 0s - loss: 0.4983 - accuracy: 0.8402 - precision: 0.8649 - 50ms/epoch - 8ms/step\n",
            "Epoch 103/1000\n",
            "6/6 - 0s - loss: 0.5897 - accuracy: 0.7811 - precision: 0.8503 - 55ms/epoch - 9ms/step\n",
            "Epoch 104/1000\n",
            "6/6 - 0s - loss: 0.6810 - accuracy: 0.7278 - precision: 0.8082 - 52ms/epoch - 9ms/step\n",
            "Epoch 105/1000\n",
            "6/6 - 0s - loss: 0.5445 - accuracy: 0.8107 - precision: 0.8487 - 51ms/epoch - 8ms/step\n",
            "Epoch 106/1000\n",
            "6/6 - 0s - loss: 0.4628 - accuracy: 0.8462 - precision: 0.8774 - 51ms/epoch - 8ms/step\n",
            "Epoch 107/1000\n",
            "6/6 - 0s - loss: 0.5264 - accuracy: 0.7988 - precision: 0.8707 - 50ms/epoch - 8ms/step\n",
            "Epoch 108/1000\n",
            "6/6 - 0s - loss: 0.4615 - accuracy: 0.8343 - precision: 0.8986 - 51ms/epoch - 9ms/step\n",
            "Epoch 109/1000\n",
            "6/6 - 0s - loss: 0.5042 - accuracy: 0.8284 - precision: 0.8758 - 51ms/epoch - 9ms/step\n",
            "Epoch 110/1000\n",
            "6/6 - 0s - loss: 0.4756 - accuracy: 0.8284 - precision: 0.8562 - 51ms/epoch - 8ms/step\n",
            "Epoch 111/1000\n",
            "6/6 - 0s - loss: 0.6507 - accuracy: 0.7751 - precision: 0.7987 - 51ms/epoch - 8ms/step\n",
            "Epoch 112/1000\n",
            "6/6 - 0s - loss: 0.5511 - accuracy: 0.7988 - precision: 0.8857 - 54ms/epoch - 9ms/step\n",
            "Epoch 113/1000\n",
            "6/6 - 0s - loss: 0.5257 - accuracy: 0.8107 - precision: 0.8639 - 61ms/epoch - 10ms/step\n",
            "Epoch 114/1000\n",
            "6/6 - 0s - loss: 0.4268 - accuracy: 0.8402 - precision: 0.8758 - 58ms/epoch - 10ms/step\n",
            "Epoch 115/1000\n",
            "6/6 - 0s - loss: 0.4543 - accuracy: 0.8343 - precision: 0.8671 - 50ms/epoch - 8ms/step\n",
            "Epoch 116/1000\n",
            "6/6 - 0s - loss: 0.4247 - accuracy: 0.8166 - precision: 0.8882 - 54ms/epoch - 9ms/step\n",
            "Epoch 117/1000\n",
            "6/6 - 0s - loss: 0.4182 - accuracy: 0.8343 - precision: 0.8684 - 51ms/epoch - 8ms/step\n",
            "Epoch 118/1000\n",
            "6/6 - 0s - loss: 0.5756 - accuracy: 0.8107 - precision: 0.8543 - 52ms/epoch - 9ms/step\n",
            "Epoch 119/1000\n",
            "6/6 - 0s - loss: 0.7956 - accuracy: 0.7515 - precision: 0.7857 - 53ms/epoch - 9ms/step\n",
            "Epoch 120/1000\n",
            "6/6 - 0s - loss: 0.5856 - accuracy: 0.8047 - precision: 0.8250 - 49ms/epoch - 8ms/step\n",
            "Epoch 121/1000\n",
            "6/6 - 0s - loss: 0.5275 - accuracy: 0.7870 - precision: 0.8652 - 51ms/epoch - 9ms/step\n",
            "Epoch 122/1000\n",
            "6/6 - 0s - loss: 0.4231 - accuracy: 0.8402 - precision: 0.8774 - 50ms/epoch - 8ms/step\n",
            "Epoch 123/1000\n",
            "6/6 - 0s - loss: 0.5125 - accuracy: 0.8047 - precision: 0.8639 - 52ms/epoch - 9ms/step\n",
            "Epoch 124/1000\n",
            "6/6 - 0s - loss: 0.8238 - accuracy: 0.6923 - precision: 0.7660 - 53ms/epoch - 9ms/step\n",
            "Epoch 125/1000\n",
            "6/6 - 0s - loss: 0.5528 - accuracy: 0.7988 - precision: 0.8671 - 53ms/epoch - 9ms/step\n",
            "Epoch 126/1000\n",
            "6/6 - 0s - loss: 0.4260 - accuracy: 0.8402 - precision: 0.8954 - 54ms/epoch - 9ms/step\n",
            "Epoch 127/1000\n",
            "6/6 - 0s - loss: 0.4738 - accuracy: 0.8402 - precision: 0.8824 - 54ms/epoch - 9ms/step\n",
            "Epoch 128/1000\n",
            "6/6 - 0s - loss: 0.4244 - accuracy: 0.8580 - precision: 0.8790 - 53ms/epoch - 9ms/step\n",
            "Epoch 129/1000\n",
            "6/6 - 0s - loss: 0.5056 - accuracy: 0.8107 - precision: 0.8859 - 53ms/epoch - 9ms/step\n",
            "Epoch 130/1000\n",
            "6/6 - 0s - loss: 0.5178 - accuracy: 0.8402 - precision: 0.8581 - 61ms/epoch - 10ms/step\n",
            "Epoch 131/1000\n",
            "6/6 - 0s - loss: 0.5863 - accuracy: 0.7751 - precision: 0.8000 - 51ms/epoch - 8ms/step\n",
            "Epoch 132/1000\n",
            "6/6 - 0s - loss: 0.5381 - accuracy: 0.8047 - precision: 0.8313 - 55ms/epoch - 9ms/step\n",
            "Epoch 133/1000\n",
            "6/6 - 0s - loss: 0.5966 - accuracy: 0.7929 - precision: 0.8086 - 51ms/epoch - 9ms/step\n",
            "Epoch 134/1000\n",
            "6/6 - 0s - loss: 0.5386 - accuracy: 0.8107 - precision: 0.8609 - 53ms/epoch - 9ms/step\n",
            "Epoch 135/1000\n",
            "6/6 - 0s - loss: 0.4923 - accuracy: 0.8402 - precision: 0.8766 - 50ms/epoch - 8ms/step\n",
            "Epoch 136/1000\n",
            "6/6 - 0s - loss: 0.4521 - accuracy: 0.8225 - precision: 0.8767 - 52ms/epoch - 9ms/step\n",
            "Epoch 137/1000\n",
            "6/6 - 0s - loss: 0.3773 - accuracy: 0.8580 - precision: 0.8868 - 50ms/epoch - 8ms/step\n",
            "Epoch 138/1000\n",
            "6/6 - 0s - loss: 0.3363 - accuracy: 0.8757 - precision: 0.9161 - 55ms/epoch - 9ms/step\n",
            "Epoch 139/1000\n",
            "6/6 - 0s - loss: 0.3708 - accuracy: 0.8580 - precision: 0.8820 - 51ms/epoch - 8ms/step\n",
            "Epoch 140/1000\n",
            "6/6 - 0s - loss: 0.3594 - accuracy: 0.8639 - precision: 0.8854 - 49ms/epoch - 8ms/step\n",
            "Epoch 141/1000\n",
            "6/6 - 0s - loss: 0.2765 - accuracy: 0.8876 - precision: 0.9136 - 49ms/epoch - 8ms/step\n",
            "Epoch 142/1000\n",
            "6/6 - 0s - loss: 0.2802 - accuracy: 0.8876 - precision: 0.9236 - 51ms/epoch - 8ms/step\n",
            "Epoch 143/1000\n",
            "6/6 - 0s - loss: 0.2619 - accuracy: 0.8994 - precision: 0.9308 - 52ms/epoch - 9ms/step\n",
            "Epoch 144/1000\n",
            "6/6 - 0s - loss: 0.3565 - accuracy: 0.8698 - precision: 0.8868 - 54ms/epoch - 9ms/step\n",
            "Epoch 145/1000\n",
            "6/6 - 0s - loss: 0.3319 - accuracy: 0.8639 - precision: 0.8917 - 53ms/epoch - 9ms/step\n",
            "Epoch 146/1000\n",
            "6/6 - 0s - loss: 0.3387 - accuracy: 0.8876 - precision: 0.9250 - 51ms/epoch - 9ms/step\n",
            "Epoch 147/1000\n",
            "6/6 - 0s - loss: 0.4830 - accuracy: 0.8402 - precision: 0.8854 - 53ms/epoch - 9ms/step\n",
            "Epoch 148/1000\n",
            "6/6 - 0s - loss: 0.3570 - accuracy: 0.8580 - precision: 0.8750 - 61ms/epoch - 10ms/step\n",
            "Epoch 149/1000\n",
            "6/6 - 0s - loss: 0.3174 - accuracy: 0.8698 - precision: 0.8951 - 52ms/epoch - 9ms/step\n",
            "Epoch 150/1000\n",
            "6/6 - 0s - loss: 0.2865 - accuracy: 0.8757 - precision: 0.9006 - 57ms/epoch - 9ms/step\n",
            "Epoch 151/1000\n",
            "6/6 - 0s - loss: 0.3118 - accuracy: 0.8994 - precision: 0.9130 - 53ms/epoch - 9ms/step\n",
            "Epoch 152/1000\n",
            "6/6 - 0s - loss: 0.2872 - accuracy: 0.8876 - precision: 0.8963 - 54ms/epoch - 9ms/step\n",
            "Epoch 153/1000\n",
            "6/6 - 0s - loss: 0.2958 - accuracy: 0.8757 - precision: 0.9012 - 51ms/epoch - 9ms/step\n",
            "Epoch 154/1000\n",
            "6/6 - 0s - loss: 0.2697 - accuracy: 0.9172 - precision: 0.9434 - 52ms/epoch - 9ms/step\n",
            "Epoch 155/1000\n",
            "6/6 - 0s - loss: 0.2653 - accuracy: 0.8994 - precision: 0.9198 - 54ms/epoch - 9ms/step\n",
            "Epoch 156/1000\n",
            "6/6 - 0s - loss: 0.2399 - accuracy: 0.9112 - precision: 0.9441 - 50ms/epoch - 8ms/step\n",
            "Epoch 157/1000\n",
            "6/6 - 0s - loss: 0.2843 - accuracy: 0.9112 - precision: 0.9207 - 53ms/epoch - 9ms/step\n",
            "Epoch 158/1000\n",
            "6/6 - 0s - loss: 0.2206 - accuracy: 0.9349 - precision: 0.9455 - 55ms/epoch - 9ms/step\n",
            "Epoch 159/1000\n",
            "6/6 - 0s - loss: 0.2941 - accuracy: 0.8817 - precision: 0.9119 - 56ms/epoch - 9ms/step\n",
            "Epoch 160/1000\n",
            "6/6 - 0s - loss: 0.2771 - accuracy: 0.8876 - precision: 0.9012 - 59ms/epoch - 10ms/step\n",
            "Epoch 161/1000\n",
            "6/6 - 0s - loss: 0.2199 - accuracy: 0.9172 - precision: 0.9268 - 53ms/epoch - 9ms/step\n",
            "Epoch 162/1000\n",
            "6/6 - 0s - loss: 0.1838 - accuracy: 0.9467 - precision: 0.9464 - 51ms/epoch - 9ms/step\n",
            "Epoch 163/1000\n",
            "6/6 - 0s - loss: 0.1828 - accuracy: 0.9231 - precision: 0.9455 - 49ms/epoch - 8ms/step\n",
            "Epoch 164/1000\n",
            "6/6 - 0s - loss: 0.2290 - accuracy: 0.9290 - precision: 0.9273 - 57ms/epoch - 10ms/step\n",
            "Epoch 165/1000\n",
            "6/6 - 0s - loss: 0.2371 - accuracy: 0.9231 - precision: 0.9268 - 51ms/epoch - 8ms/step\n",
            "Epoch 166/1000\n",
            "6/6 - 0s - loss: 0.2181 - accuracy: 0.9349 - precision: 0.9383 - 57ms/epoch - 10ms/step\n",
            "Epoch 167/1000\n",
            "6/6 - 0s - loss: 0.2418 - accuracy: 0.9172 - precision: 0.9317 - 51ms/epoch - 8ms/step\n",
            "Epoch 168/1000\n",
            "6/6 - 0s - loss: 0.3082 - accuracy: 0.8876 - precision: 0.9114 - 51ms/epoch - 8ms/step\n",
            "Epoch 169/1000\n",
            "6/6 - 0s - loss: 0.1954 - accuracy: 0.9408 - precision: 0.9451 - 55ms/epoch - 9ms/step\n",
            "Epoch 170/1000\n",
            "6/6 - 0s - loss: 0.2135 - accuracy: 0.9290 - precision: 0.9375 - 61ms/epoch - 10ms/step\n",
            "Epoch 171/1000\n",
            "6/6 - 0s - loss: 0.1857 - accuracy: 0.9467 - precision: 0.9568 - 50ms/epoch - 8ms/step\n",
            "Epoch 172/1000\n",
            "6/6 - 0s - loss: 0.1641 - accuracy: 0.9586 - precision: 0.9581 - 50ms/epoch - 8ms/step\n",
            "Epoch 173/1000\n",
            "6/6 - 0s - loss: 0.3374 - accuracy: 0.8639 - precision: 0.8882 - 53ms/epoch - 9ms/step\n",
            "Epoch 174/1000\n",
            "6/6 - 0s - loss: 0.5891 - accuracy: 0.8107 - precision: 0.8272 - 50ms/epoch - 8ms/step\n",
            "Epoch 175/1000\n",
            "6/6 - 0s - loss: 1.1699 - accuracy: 0.6095 - precision: 0.6433 - 51ms/epoch - 9ms/step\n",
            "Epoch 176/1000\n",
            "6/6 - 0s - loss: 1.0822 - accuracy: 0.7278 - precision: 0.7613 - 50ms/epoch - 8ms/step\n",
            "Epoch 177/1000\n",
            "6/6 - 0s - loss: 1.3597 - accuracy: 0.6391 - precision: 0.6986 - 51ms/epoch - 8ms/step\n",
            "Epoch 178/1000\n",
            "6/6 - 0s - loss: 0.8345 - accuracy: 0.7219 - precision: 0.7671 - 53ms/epoch - 9ms/step\n",
            "Epoch 179/1000\n",
            "6/6 - 0s - loss: 0.8010 - accuracy: 0.7337 - precision: 0.8134 - 50ms/epoch - 8ms/step\n",
            "Epoch 180/1000\n",
            "6/6 - 0s - loss: 0.6714 - accuracy: 0.7456 - precision: 0.8429 - 51ms/epoch - 8ms/step\n",
            "Epoch 181/1000\n",
            "6/6 - 0s - loss: 0.5207 - accuracy: 0.8284 - precision: 0.8919 - 52ms/epoch - 9ms/step\n",
            "Epoch 182/1000\n",
            "6/6 - 0s - loss: 0.4340 - accuracy: 0.8462 - precision: 0.8750 - 51ms/epoch - 8ms/step\n",
            "Epoch 183/1000\n",
            "6/6 - 0s - loss: 0.3864 - accuracy: 0.8462 - precision: 0.9122 - 51ms/epoch - 8ms/step\n",
            "Epoch 184/1000\n",
            "6/6 - 0s - loss: 0.4137 - accuracy: 0.8580 - precision: 0.8868 - 61ms/epoch - 10ms/step\n",
            "Epoch 185/1000\n",
            "6/6 - 0s - loss: 0.3111 - accuracy: 0.8698 - precision: 0.9026 - 53ms/epoch - 9ms/step\n",
            "Epoch 186/1000\n",
            "6/6 - 0s - loss: 0.2946 - accuracy: 0.8994 - precision: 0.9187 - 58ms/epoch - 10ms/step\n",
            "Epoch 187/1000\n",
            "6/6 - 0s - loss: 0.2851 - accuracy: 0.8994 - precision: 0.9136 - 51ms/epoch - 8ms/step\n",
            "Epoch 188/1000\n",
            "6/6 - 0s - loss: 0.2844 - accuracy: 0.8935 - precision: 0.9141 - 52ms/epoch - 9ms/step\n",
            "Epoch 189/1000\n",
            "6/6 - 0s - loss: 0.2468 - accuracy: 0.8994 - precision: 0.9304 - 53ms/epoch - 9ms/step\n",
            "Epoch 190/1000\n",
            "6/6 - 0s - loss: 0.3193 - accuracy: 0.8817 - precision: 0.9062 - 52ms/epoch - 9ms/step\n",
            "Epoch 191/1000\n",
            "6/6 - 0s - loss: 0.3033 - accuracy: 0.8994 - precision: 0.9255 - 49ms/epoch - 8ms/step\n",
            "Epoch 192/1000\n",
            "6/6 - 0s - loss: 0.3141 - accuracy: 0.8876 - precision: 0.9125 - 52ms/epoch - 9ms/step\n",
            "Epoch 193/1000\n",
            "6/6 - 0s - loss: 0.4405 - accuracy: 0.8047 - precision: 0.8408 - 49ms/epoch - 8ms/step\n",
            "Epoch 194/1000\n",
            "6/6 - 0s - loss: 0.3406 - accuracy: 0.8580 - precision: 0.9026 - 53ms/epoch - 9ms/step\n",
            "Epoch 195/1000\n",
            "6/6 - 0s - loss: 0.2437 - accuracy: 0.9172 - precision: 0.9383 - 54ms/epoch - 9ms/step\n",
            "Epoch 196/1000\n",
            "6/6 - 0s - loss: 0.2815 - accuracy: 0.8639 - precision: 0.8841 - 51ms/epoch - 8ms/step\n",
            "Epoch 197/1000\n",
            "6/6 - 0s - loss: 0.2074 - accuracy: 0.9172 - precision: 0.9383 - 49ms/epoch - 8ms/step\n",
            "Epoch 198/1000\n",
            "6/6 - 0s - loss: 0.2159 - accuracy: 0.9172 - precision: 0.9333 - 50ms/epoch - 8ms/step\n",
            "Epoch 199/1000\n",
            "6/6 - 0s - loss: 0.1594 - accuracy: 0.9408 - precision: 0.9576 - 56ms/epoch - 9ms/step\n",
            "Epoch 200/1000\n",
            "6/6 - 0s - loss: 0.1577 - accuracy: 0.9527 - precision: 0.9524 - 54ms/epoch - 9ms/step\n",
            "Epoch 201/1000\n",
            "6/6 - 0s - loss: 0.1669 - accuracy: 0.9527 - precision: 0.9512 - 48ms/epoch - 8ms/step\n",
            "Epoch 202/1000\n",
            "6/6 - 0s - loss: 0.1346 - accuracy: 0.9527 - precision: 0.9521 - 59ms/epoch - 10ms/step\n",
            "Epoch 203/1000\n",
            "6/6 - 0s - loss: 0.1654 - accuracy: 0.9290 - precision: 0.9281 - 50ms/epoch - 8ms/step\n",
            "Epoch 204/1000\n",
            "6/6 - 0s - loss: 0.1402 - accuracy: 0.9527 - precision: 0.9578 - 58ms/epoch - 10ms/step\n",
            "Epoch 205/1000\n",
            "6/6 - 0s - loss: 0.1404 - accuracy: 0.9527 - precision: 0.9636 - 53ms/epoch - 9ms/step\n",
            "Epoch 206/1000\n",
            "6/6 - 0s - loss: 0.1617 - accuracy: 0.9408 - precision: 0.9518 - 52ms/epoch - 9ms/step\n",
            "Epoch 207/1000\n",
            "6/6 - 0s - loss: 0.2923 - accuracy: 0.8876 - precision: 0.8876 - 53ms/epoch - 9ms/step\n",
            "Epoch 208/1000\n",
            "6/6 - 0s - loss: 0.5108 - accuracy: 0.8047 - precision: 0.8242 - 51ms/epoch - 8ms/step\n",
            "Epoch 209/1000\n",
            "6/6 - 0s - loss: 0.2696 - accuracy: 0.9053 - precision: 0.9091 - 53ms/epoch - 9ms/step\n",
            "Epoch 210/1000\n",
            "6/6 - 0s - loss: 0.1592 - accuracy: 0.9408 - precision: 0.9451 - 53ms/epoch - 9ms/step\n",
            "Epoch 211/1000\n",
            "6/6 - 0s - loss: 0.1217 - accuracy: 0.9586 - precision: 0.9641 - 52ms/epoch - 9ms/step\n",
            "Epoch 212/1000\n",
            "6/6 - 0s - loss: 0.1244 - accuracy: 0.9704 - precision: 0.9760 - 52ms/epoch - 9ms/step\n",
            "Epoch 213/1000\n",
            "6/6 - 0s - loss: 0.1011 - accuracy: 0.9763 - precision: 0.9819 - 51ms/epoch - 8ms/step\n",
            "Epoch 214/1000\n",
            "6/6 - 0s - loss: 0.0958 - accuracy: 0.9645 - precision: 0.9702 - 52ms/epoch - 9ms/step\n",
            "Epoch 215/1000\n",
            "6/6 - 0s - loss: 0.0882 - accuracy: 0.9704 - precision: 0.9702 - 48ms/epoch - 8ms/step\n",
            "Epoch 216/1000\n",
            "6/6 - 0s - loss: 0.0823 - accuracy: 0.9822 - precision: 0.9821 - 49ms/epoch - 8ms/step\n",
            "Epoch 217/1000\n",
            "6/6 - 0s - loss: 0.1489 - accuracy: 0.9408 - precision: 0.9405 - 53ms/epoch - 9ms/step\n",
            "Epoch 218/1000\n",
            "6/6 - 0s - loss: 0.4263 - accuracy: 0.8580 - precision: 0.8712 - 53ms/epoch - 9ms/step\n",
            "Epoch 219/1000\n",
            "6/6 - 0s - loss: 0.3491 - accuracy: 0.9112 - precision: 0.9102 - 52ms/epoch - 9ms/step\n",
            "Epoch 220/1000\n",
            "6/6 - 0s - loss: 0.4694 - accuracy: 0.8343 - precision: 0.8528 - 65ms/epoch - 11ms/step\n",
            "Epoch 221/1000\n",
            "6/6 - 0s - loss: 0.2661 - accuracy: 0.8935 - precision: 0.9018 - 56ms/epoch - 9ms/step\n",
            "Epoch 222/1000\n",
            "6/6 - 0s - loss: 0.3446 - accuracy: 0.8698 - precision: 0.9051 - 53ms/epoch - 9ms/step\n",
            "Epoch 223/1000\n",
            "6/6 - 0s - loss: 0.2473 - accuracy: 0.9112 - precision: 0.9387 - 48ms/epoch - 8ms/step\n",
            "Epoch 224/1000\n",
            "6/6 - 0s - loss: 0.2471 - accuracy: 0.8935 - precision: 0.9036 - 49ms/epoch - 8ms/step\n",
            "Epoch 225/1000\n",
            "6/6 - 0s - loss: 0.2891 - accuracy: 0.8994 - precision: 0.9096 - 50ms/epoch - 8ms/step\n",
            "Epoch 226/1000\n",
            "6/6 - 0s - loss: 0.2050 - accuracy: 0.9053 - precision: 0.9207 - 50ms/epoch - 8ms/step\n",
            "Epoch 227/1000\n",
            "6/6 - 0s - loss: 0.1891 - accuracy: 0.9172 - precision: 0.9333 - 52ms/epoch - 9ms/step\n",
            "Epoch 228/1000\n",
            "6/6 - 0s - loss: 0.1889 - accuracy: 0.9231 - precision: 0.9451 - 50ms/epoch - 8ms/step\n",
            "Epoch 229/1000\n",
            "6/6 - 0s - loss: 0.1569 - accuracy: 0.9527 - precision: 0.9518 - 49ms/epoch - 8ms/step\n",
            "Epoch 230/1000\n",
            "6/6 - 0s - loss: 0.2170 - accuracy: 0.9112 - precision: 0.9273 - 52ms/epoch - 9ms/step\n",
            "Epoch 231/1000\n",
            "6/6 - 0s - loss: 0.1805 - accuracy: 0.9349 - precision: 0.9451 - 52ms/epoch - 9ms/step\n",
            "Epoch 232/1000\n",
            "6/6 - 0s - loss: 0.2920 - accuracy: 0.9112 - precision: 0.9264 - 54ms/epoch - 9ms/step\n",
            "Epoch 233/1000\n",
            "6/6 - 0s - loss: 0.1820 - accuracy: 0.9290 - precision: 0.9458 - 50ms/epoch - 8ms/step\n",
            "Epoch 234/1000\n",
            "6/6 - 0s - loss: 0.1252 - accuracy: 0.9704 - precision: 0.9701 - 54ms/epoch - 9ms/step\n",
            "Epoch 235/1000\n",
            "6/6 - 0s - loss: 0.1401 - accuracy: 0.9467 - precision: 0.9521 - 55ms/epoch - 9ms/step\n",
            "Epoch 236/1000\n",
            "6/6 - 0s - loss: 0.0850 - accuracy: 0.9822 - precision: 0.9881 - 53ms/epoch - 9ms/step\n",
            "Epoch 237/1000\n",
            "6/6 - 0s - loss: 0.0871 - accuracy: 0.9763 - precision: 0.9821 - 53ms/epoch - 9ms/step\n",
            "Epoch 238/1000\n",
            "6/6 - 0s - loss: 0.0699 - accuracy: 0.9882 - precision: 0.9882 - 65ms/epoch - 11ms/step\n",
            "Epoch 239/1000\n",
            "6/6 - 0s - loss: 0.0939 - accuracy: 0.9704 - precision: 0.9704 - 54ms/epoch - 9ms/step\n",
            "Epoch 240/1000\n",
            "6/6 - 0s - loss: 0.0985 - accuracy: 0.9704 - precision: 0.9760 - 52ms/epoch - 9ms/step\n",
            "Epoch 241/1000\n",
            "6/6 - 0s - loss: 0.0988 - accuracy: 0.9704 - precision: 0.9704 - 52ms/epoch - 9ms/step\n",
            "Epoch 242/1000\n",
            "6/6 - 0s - loss: 0.0762 - accuracy: 0.9763 - precision: 0.9821 - 51ms/epoch - 8ms/step\n",
            "Epoch 243/1000\n",
            "6/6 - 0s - loss: 0.0910 - accuracy: 0.9645 - precision: 0.9643 - 53ms/epoch - 9ms/step\n",
            "Epoch 244/1000\n",
            "\n",
            "Reached 99.00% accuracy, so stopping training!!\n",
            "6/6 - 0s - loss: 0.0712 - accuracy: 0.9941 - precision: 0.9940 - 57ms/epoch - 9ms/step\n"
          ]
        }
      ],
      "source": [
        "history = model.fit(X_train,y_train,epochs=1000,batch_size=32,callbacks=[callbacks], shuffle = True, verbose=2)"
      ]
    },
    {
      "cell_type": "markdown",
      "metadata": {
        "id": "NVuglJ1lx9C-"
      },
      "source": [
        "##Plotting Accuracy v/s Epoch Graph"
      ]
    },
    {
      "cell_type": "code",
      "execution_count": null,
      "metadata": {
        "colab": {
          "background_save": true
        },
        "id": "y_0PHmJWKkC9",
        "outputId": "0b88cc1b-f18d-4d13-b8b0-5757942d81cd"
      },
      "outputs": [
        {
          "data": {
            "image/png": "[encoded data removed]",
            "text/plain": [
              "<Figure size 432x288 with 1 Axes>"
            ]
          },
          "metadata": {},
          "output_type": "display_data"
        }
      ],
      "source": [
        "training_accuracy = history.history['accuracy']\n",
        "\n",
        "# Create count of the number of epochs\n",
        "epoch_count = range(1, len(training_accuracy) + 1)\n",
        "# Visualize loss history\n",
        "plt.plot(epoch_count, training_accuracy, 'r--')\n",
        "# plt.plot(epoch_count, test_loss, 'b-')\n",
        "plt.legend(['Training accuracy'])\n",
        "plt.xlabel('Epoch')\n",
        "plt.ylabel('accuracy')\n",
        "plt.show();"
      ]
    },
    {
      "cell_type": "code",
      "execution_count": null,
      "metadata": {
        "colab": {
          "background_save": true
        },
        "id": "Bd57XwBIcMah",
        "outputId": "1bc56db5-bf00-42e1-f85b-df8c94ddea07"
      },
      "outputs": [
        {
          "data": {
            "text/plain": [
              "range(1, 245)"
            ]
          },
          "execution_count": null,
          "metadata": {},
          "output_type": "execute_result"
        }
      ],
      "source": [
        "epoch_count"
      ]
    },
    {
      "cell_type": "code",
      "execution_count": null,
      "metadata": {
        "colab": {
          "background_save": true
        },
        "id": "fs9-L79jJLnE",
        "outputId": "4a1a0add-c4e0-4aac-aa51-98c22399cb27"
      },
      "outputs": [
        {
          "name": "stdout",
          "output_type": "stream",
          "text": [
            "15/15 [==============================] - 0s 2ms/step - loss: 2.1624 - accuracy: 0.7168 - precision: 0.7156\n"
          ]
        }
      ],
      "source": [
        "score = model.evaluate(X_test,y_test,batch_size=8)"
      ]
    },
    {
      "cell_type": "markdown",
      "metadata": {
        "id": "i2QxrEi_zWzu"
      },
      "source": [
        "##Predicting on Test Data"
      ]
    },
    {
      "cell_type": "code",
      "execution_count": null,
      "metadata": {
        "colab": {
          "background_save": true
        },
        "id": "tXcTkgHaKAKm"
      },
      "outputs": [],
      "source": [
        "yhat = model.predict(X_test)"
      ]
    },
    {
      "cell_type": "code",
      "execution_count": null,
      "metadata": {
        "colab": {
          "background_save": true
        },
        "id": "z2uUOmAzilGh",
        "outputId": "2fd9be83-786c-431b-e348-3046280daac5"
      },
      "outputs": [
        {
          "data": {
            "text/plain": [
              "array([[9.77080941e-01, 6.06324375e-06, 3.88299100e-07, ...,\n",
              "        1.35925973e-07, 4.73798636e-08, 6.96459645e-03],\n",
              "       [9.08798754e-01, 3.56636924e-08, 7.71664854e-05, ...,\n",
              "        1.58012824e-06, 1.55737638e-04, 4.63474281e-02],\n",
              "       [3.82072756e-08, 9.69191015e-01, 2.33442016e-11, ...,\n",
              "        7.45517954e-16, 1.47635590e-14, 4.09501730e-08],\n",
              "       ...,\n",
              "       [1.63987835e-07, 9.99113977e-01, 7.68439620e-13, ...,\n",
              "        2.85168531e-17, 1.42790898e-15, 3.10732631e-08],\n",
              "       [7.86026895e-01, 1.46861794e-07, 1.15238635e-07, ...,\n",
              "        3.23655229e-07, 3.16482851e-06, 2.25595541e-05],\n",
              "       [4.53993259e-03, 3.84117094e-09, 1.40155049e-03, ...,\n",
              "        8.67381004e-06, 3.17028571e-05, 1.37003444e-04]], dtype=float32)"
            ]
          },
          "execution_count": null,
          "metadata": {},
          "output_type": "execute_result"
        }
      ],
      "source": [
        "yhat"
      ]
    },
    {
      "cell_type": "code",
      "execution_count": null,
      "metadata": {
        "colab": {
          "background_save": true
        },
        "id": "CNEM3n1Bi4LJ",
        "outputId": "fde4a51f-e7f3-4374-b25a-3060045b6c09"
      },
      "outputs": [
        {
          "data": {
            "text/plain": [
              "(113, 11)"
            ]
          },
          "execution_count": null,
          "metadata": {},
          "output_type": "execute_result"
        }
      ],
      "source": [
        "yhat.shape"
      ]
    },
    {
      "cell_type": "code",
      "execution_count": null,
      "metadata": {
        "colab": {
          "background_save": true
        },
        "id": "g0Hkr10kKBSv"
      },
      "outputs": [],
      "source": [
        "ytrue = np.argmax(y_test, axis=1).tolist()\n",
        "yhat = np.argmax(yhat, axis=1).tolist()"
      ]
    },
    {
      "cell_type": "code",
      "execution_count": null,
      "metadata": {
        "colab": {
          "background_save": true
        },
        "id": "bt0SVTJ0jgKh",
        "outputId": "f4b67ca8-fdcc-46d2-e4fa-8a99c1774e78"
      },
      "outputs": [
        {
          "data": {
            "text/plain": [
              "[0,\n",
              " 0,\n",
              " 1,\n",
              " 1,\n",
              " 6,\n",
              " 3,\n",
              " 0,\n",
              " 0,\n",
              " 6,\n",
              " 8,\n",
              " 3,\n",
              " 4,\n",
              " 0,\n",
              " 0,\n",
              " 0,\n",
              " 3,\n",
              " 0,\n",
              " 1,\n",
              " 0,\n",
              " 7,\n",
              " 0,\n",
              " 5,\n",
              " 3,\n",
              " 3,\n",
              " 3,\n",
              " 3,\n",
              " 1,\n",
              " 1,\n",
              " 1,\n",
              " 0,\n",
              " 1,\n",
              " 1,\n",
              " 0,\n",
              " 1,\n",
              " 4,\n",
              " 1,\n",
              " 1,\n",
              " 1,\n",
              " 0,\n",
              " 0,\n",
              " 0,\n",
              " 3,\n",
              " 1,\n",
              " 3,\n",
              " 1,\n",
              " 1,\n",
              " 1,\n",
              " 3,\n",
              " 1,\n",
              " 3,\n",
              " 1,\n",
              " 0,\n",
              " 9,\n",
              " 0,\n",
              " 1,\n",
              " 0,\n",
              " 0,\n",
              " 1,\n",
              " 1,\n",
              " 0,\n",
              " 1,\n",
              " 1,\n",
              " 6,\n",
              " 0,\n",
              " 0,\n",
              " 0,\n",
              " 0,\n",
              " 1,\n",
              " 0,\n",
              " 0,\n",
              " 1,\n",
              " 4,\n",
              " 0,\n",
              " 0,\n",
              " 3,\n",
              " 1,\n",
              " 0,\n",
              " 1,\n",
              " 10,\n",
              " 0,\n",
              " 1,\n",
              " 3,\n",
              " 1,\n",
              " 1,\n",
              " 9,\n",
              " 1,\n",
              " 1,\n",
              " 0,\n",
              " 3,\n",
              " 0,\n",
              " 1,\n",
              " 1,\n",
              " 0,\n",
              " 3,\n",
              " 1,\n",
              " 1,\n",
              " 1,\n",
              " 0,\n",
              " 6,\n",
              " 0,\n",
              " 1,\n",
              " 1,\n",
              " 9,\n",
              " 1,\n",
              " 3,\n",
              " 1,\n",
              " 1,\n",
              " 1,\n",
              " 1,\n",
              " 0,\n",
              " 1,\n",
              " 0,\n",
              " 3]"
            ]
          },
          "execution_count": null,
          "metadata": {},
          "output_type": "execute_result"
        }
      ],
      "source": [
        "yhat"
      ]
    },
    {
      "cell_type": "code",
      "execution_count": null,
      "metadata": {
        "colab": {
          "background_save": true
        },
        "id": "228Yl-93jidn",
        "outputId": "032fc217-1879-4797-f436-7aac8f45a268"
      },
      "outputs": [
        {
          "data": {
            "text/plain": [
              "[0,\n",
              " 0,\n",
              " 1,\n",
              " 1,\n",
              " 8,\n",
              " 3,\n",
              " 0,\n",
              " 0,\n",
              " 6,\n",
              " 8,\n",
              " 3,\n",
              " 9,\n",
              " 6,\n",
              " 3,\n",
              " 3,\n",
              " 0,\n",
              " 0,\n",
              " 1,\n",
              " 0,\n",
              " 5,\n",
              " 0,\n",
              " 5,\n",
              " 0,\n",
              " 3,\n",
              " 10,\n",
              " 3,\n",
              " 1,\n",
              " 1,\n",
              " 0,\n",
              " 0,\n",
              " 1,\n",
              " 1,\n",
              " 9,\n",
              " 1,\n",
              " 2,\n",
              " 1,\n",
              " 1,\n",
              " 1,\n",
              " 0,\n",
              " 0,\n",
              " 0,\n",
              " 2,\n",
              " 0,\n",
              " 3,\n",
              " 1,\n",
              " 5,\n",
              " 1,\n",
              " 2,\n",
              " 1,\n",
              " 3,\n",
              " 0,\n",
              " 0,\n",
              " 4,\n",
              " 0,\n",
              " 0,\n",
              " 0,\n",
              " 0,\n",
              " 1,\n",
              " 1,\n",
              " 0,\n",
              " 1,\n",
              " 1,\n",
              " 8,\n",
              " 0,\n",
              " 0,\n",
              " 0,\n",
              " 0,\n",
              " 1,\n",
              " 0,\n",
              " 0,\n",
              " 0,\n",
              " 8,\n",
              " 0,\n",
              " 0,\n",
              " 0,\n",
              " 0,\n",
              " 0,\n",
              " 1,\n",
              " 0,\n",
              " 0,\n",
              " 1,\n",
              " 3,\n",
              " 1,\n",
              " 1,\n",
              " 9,\n",
              " 1,\n",
              " 0,\n",
              " 1,\n",
              " 3,\n",
              " 0,\n",
              " 1,\n",
              " 1,\n",
              " 0,\n",
              " 9,\n",
              " 1,\n",
              " 1,\n",
              " 1,\n",
              " 0,\n",
              " 8,\n",
              " 0,\n",
              " 1,\n",
              " 1,\n",
              " 5,\n",
              " 1,\n",
              " 5,\n",
              " 1,\n",
              " 1,\n",
              " 1,\n",
              " 1,\n",
              " 0,\n",
              " 1,\n",
              " 0,\n",
              " 0]"
            ]
          },
          "execution_count": null,
          "metadata": {},
          "output_type": "execute_result"
        }
      ],
      "source": [
        "ytrue"
      ]
    },
    {
      "cell_type": "markdown",
      "metadata": {
        "id": "H3_09SN8zeUL"
      },
      "source": [
        "##Confusion Matrix and Accuracy Score"
      ]
    },
    {
      "cell_type": "code",
      "execution_count": null,
      "metadata": {
        "colab": {
          "background_save": true
        },
        "id": "HtalOWwJKFaS"
      },
      "outputs": [],
      "source": [
        "from sklearn.metrics import multilabel_confusion_matrix, accuracy_score\n",
        "cf_matrix=multilabel_confusion_matrix(ytrue, yhat)"
      ]
    },
    {
      "cell_type": "code",
      "execution_count": null,
      "metadata": {
        "colab": {
          "background_save": true
        },
        "id": "sDG6dF27KOJZ",
        "outputId": "6768dbfb-25b7-4883-b30d-0317cf3bbf31"
      },
      "outputs": [
        {
          "data": {
            "text/plain": [
              "0.7168141592920354"
            ]
          },
          "execution_count": null,
          "metadata": {},
          "output_type": "execute_result"
        }
      ],
      "source": [
        "accuracy_score(ytrue, yhat)"
      ]
    },
    {
      "cell_type": "code",
      "execution_count": null,
      "metadata": {
        "colab": {
          "background_save": true
        },
        "id": "EWIY3Q64T8GX"
      },
      "outputs": [],
      "source": [
        "label = ['YOU','I_ME_MINE_MY','UNDERSTAND','FOOD','LIKE','LOVE','CLASS','HEART','AFRAID','ANGRY','GOOD']\n"
      ]
    },
    {
      "cell_type": "code",
      "execution_count": null,
      "metadata": {
        "colab": {
          "background_save": true
        },
        "id": "WFfgswc_T-29"
      },
      "outputs": [],
      "source": [
        "import pandas as pd\n",
        "import matplotlib.pyplot as plt\n",
        "import seaborn as sns\n",
        "\n",
        "\n",
        "def print_confusion_matrix(confusion_matrix, axes, class_label, class_names, fontsize=14):\n",
        "\n",
        "    df_cm = pd.DataFrame(\n",
        "        confusion_matrix, index=class_names, columns=class_names,\n",
        "    )\n",
        "\n",
        "    try:\n",
        "        heatmap = sns.heatmap(df_cm, annot=True, fmt=\"d\", cbar=False, ax=axes)\n",
        "    except ValueError:\n",
        "        raise ValueError(\"Confusion matrix values must be integers.\")\n",
        "    heatmap.yaxis.set_ticklabels(heatmap.yaxis.get_ticklabels(), rotation=0, ha='right', fontsize=fontsize)\n",
        "    heatmap.xaxis.set_ticklabels(heatmap.xaxis.get_ticklabels(), rotation=45, ha='right', fontsize=fontsize)\n",
        "    axes.set_ylabel('True label')\n",
        "    axes.set_xlabel('Predicted label')\n",
        "    axes.set_title(class_label)"
      ]
    },
    {
      "cell_type": "code",
      "execution_count": null,
      "metadata": {
        "colab": {
          "background_save": true
        },
        "id": "ZPTQ5nP7UAUN",
        "outputId": "835de36c-b526-49d7-99bc-31c01320d326"
      },
      "outputs": [
        {
          "data": {
            "image/png": "[encoded data removed]",
            "text/plain": [
              "<Figure size 864x504 with 16 Axes>"
            ]
          },
          "metadata": {},
          "output_type": "display_data"
        }
      ],
      "source": [
        "fig, ax = plt.subplots(4, 4, figsize=(12, 7))\n",
        "    \n",
        "for axes, cfs_matrix, label in zip(ax.flatten(), cf_matrix, labels):\n",
        "     print_confusion_matrix(cfs_matrix, axes, label, [\"N\", \"Y\"])\n",
        "    \n",
        "fig.tight_layout()\n",
        "plt.show()"
      ]
    },
    {
      "cell_type": "code",
      "execution_count": null,
      "metadata": {
        "colab": {
          "background_save": true
        },
        "id": "_bsdZwWBWHJA"
      },
      "outputs": [],
      "source": [
        ""
      ]
    }
  ],
  "metadata": {
    "colab": {
      "collapsed_sections": [],
      "name": "Mini_Project.ipynb",
      "provenance": []
    },
    "kernelspec": {
      "display_name": "Python 3",
      "name": "python3"
    },
    "language_info": {
      "name": "python"
    }
  },
  "nbformat": 4,
  "nbformat_minor": 0
}